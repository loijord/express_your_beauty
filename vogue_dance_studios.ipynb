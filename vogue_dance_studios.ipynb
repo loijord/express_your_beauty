{
 "cells": [
  {
   "cell_type": "markdown",
   "id": "40db40c6",
   "metadata": {},
   "source": [
    "## Vogue šokis\n",
    "### Laikas, vieta, kaina"
   ]
  },
  {
   "cell_type": "markdown",
   "id": "5802a8f6",
   "metadata": {},
   "source": [
    "Vogue šokti siūlo 3 šokių studijos Vilniuje: \n",
    "* [Smart Dance Studio](https://www.smartdance.lt/vogue/) nuo rugpjūčio 26 d. Kaina 70€/mėn, 2 kartai per savaitę. Treniruotės pradedantiesiems:\n",
    "  * I ir III, 20:00-21:00, Basanavičiaus g. 7 su Raidas Petrauskas (Pradedantieji)\n",
    "  * II ir IV, 19:00-20:00, Žalgirio g. 135 su Raidas Petrauskas (Pradedantieji)\n",
    "  * V, 18:30-20:00, Žalgirio g. 135 su Aistė Kulevičiūtė (Open)\n",
    "* [Skillz](https://skillz.lt/vogue/) nuo rugsėjo 2d/4d su Dajana. Kaina 75€/mėn./2 kartai per savaitę. Vieta: Lukiškių g. 5. Treniruotės pradedantiesiems:\n",
    "  * I ir III, 18:00 su Dajana\n",
    "* [Šok Šok](https://soksok.lt/sokiu-stiliai/#:~:text=Ekstravagancija) nuo rugsėjo 4 d su Džiuginta. Kaina 40€/mėn, 1 kartas per savaitę. Vieta: Ozas, Ozo g. 18, 2 aukštas. Treniruotės open/beginners:\n",
    "  * V, 19:30 - 20:30.\n",
    "* [Teatro ir kino mokykla Insity](https://www.insiti.lt/) - treniruotės su Džiuginta nevyksta, ji perėjo dirbti į Šok Šok.\n",
    "  \n",
    "Pirma pamoka visose vietose turėtų būti nemokama, vėliau abonementas skaičiuojamas nuo bandomosios pamokos arba sekančių."
   ]
  },
  {
   "cell_type": "markdown",
   "id": "50851360",
   "metadata": {},
   "source": [
    "### Kas yra vogue šokis?\n",
    "#### Smart Dance\n",
    "\n",
    "Vogue šokis – tai vienas iš pagrindinių Vogue šokio kultūros (ballroom scene) akcentų, kuris kilo LGBTQIA+ lotyno ir afro amerikiečių pogrindyje JAV, Niujorke, kur buvo įkvėptas garsiuose mados žurnaluose, pristatimuose ir parduotuvių vitrinose besipuikuojančių modelių manierų ir pozų.  Šios kultūros bendruomenės nariams pozavimas priešais naktinių klubų veidrodžius tapo daug daugiau nei tik judėjimo būdas ir kūno grožio demonstravimas, tai viena iš protesto formų už pasaulį be rasizmo ir homofobijos. \n",
    "\n",
    "Vogue šokis gali padėti atskleisti daug skirtingų kiekvieno žmogaus savybių ir gebėjimų, nes yra skirstomas į tris pagrindinius stilius, kurie lyg visiškai skirtingi šokimo stiliai tarpusavyje skiriasi judesiais, atlikimo technika, jausmu, muzika pagal kurią šokame ir pagrindiniu judėjimu – groove’u. \n",
    "\n",
    "Vogue šokis skirstomas į tris pagrindinius stilius:\n",
    "* Vogue Old Way - visas dėmesys skiriamas grakščiam, tiksliam, kovos menų, senovės Egipto piešinių, breiko ir popping šokių stilių įkvėptam pozavimui į muzikos ritmą.  \n",
    "* Vogue New Way - rankomis kuriamos iliuzijos ir aiškių linijų figūros susimaišo su akrobatikos ir gimnastikos įkvėptu, didelio kūno lankstumo reikalaujančiu pozavimu.  \n",
    "* Vogue Fem - pasaulyje labiausiai išpopuliarėjęs moteriškumą padedantis atskleisti ir dažniausiai su aukštakulniais šokamas stilius. "
   ]
  },
  {
   "cell_type": "code",
   "execution_count": 91,
   "id": "586a93d6",
   "metadata": {},
   "outputs": [
    {
     "data": {
      "text/html": [
       "<table>\n",
       "  <tr>\n",
       "    <td><p style=\"text-align:center;\">Old Way</p></td>\n",
       "    <td><p style=\"text-align:center;\">New Way</p></td>\n",
       "    <td><p style=\"text-align:center;\">Vogue Fem</p></td>\n",
       "  </tr>\n",
       "  <tr>\n",
       "    <td><img width=\"250px\" src=\"https://www.smartdance.lt/wp-content/uploads/2022/08/OldWay.gif\"></td>\n",
       "    <td><img width=\"250px\" src=\"https://www.smartdance.lt/wp-content/uploads/2022/08/voguenewway.gif\"></td>\n",
       "    <td><img width=\"250px\" src=\"https://www.smartdance.lt/wp-content/uploads/2022/08/voguefem.gif\"></td>\n",
       "  </tr>\n",
       "</table>\n"
      ],
      "text/plain": [
       "<IPython.core.display.HTML object>"
      ]
     },
     "metadata": {},
     "output_type": "display_data"
    }
   ],
   "source": [
    "%%HTML\n",
    "<table>\n",
    "  <tr>\n",
    "    <td><p style=\"text-align:center;\">Old Way</p></td>\n",
    "    <td><p style=\"text-align:center;\">New Way</p></td>\n",
    "    <td><p style=\"text-align:center;\">Vogue Fem</p></td>\n",
    "  </tr>\n",
    "  <tr>\n",
    "    <td><img width=\"250px\" src=\"https://www.smartdance.lt/wp-content/uploads/2022/08/OldWay.gif\"></td>\n",
    "    <td><img width=\"250px\" src=\"https://www.smartdance.lt/wp-content/uploads/2022/08/voguenewway.gif\"></td>\n",
    "    <td><img width=\"250px\" src=\"https://www.smartdance.lt/wp-content/uploads/2022/08/voguefem.gif\"></td>\n",
    "  </tr>\n",
    "</table>"
   ]
  },
  {
   "cell_type": "markdown",
   "id": "d02223ad",
   "metadata": {},
   "source": [
    "Pastarąjį sudaro du pagrindiniai šokimo būdai: *soft n cunt* ir *dramatics* bei 5 elementai, kuriuos privaloma įvaldyti norint šokti taisyklingai:\n",
    "  * Hands Performance\n",
    "  * Catwalk\n",
    "  * Duckwalk\n",
    "  * Floor Performance\n",
    "  * Spins & Dips"
   ]
  },
  {
   "cell_type": "code",
   "execution_count": 99,
   "id": "f33f15ca",
   "metadata": {},
   "outputs": [
    {
     "data": {
      "text/html": [
       "<table>\n",
       "  <tr>\n",
       "    <td><p style=\"text-align:center;\">Hands Performance</p></td>\n",
       "    <td><p style=\"text-align:center;\">Catwalk</p></td>\n",
       "    <td><p style=\"text-align:center;\">Duckwalk</p></td>\n",
       "    <td><p style=\"text-align:center;\">Floor Performance</p></td>\n",
       "    <td><p style=\"text-align:center;\">Dips</p></td>\n",
       "  </tr>\n",
       "  <tr>\n",
       "    <td><img width=\"187px\" src=\"https://www.smartdance.lt/wp-content/uploads/2022/08/handperformance.gif\"></td>\n",
       "    <td><img width=\"187px\" src=\"https://www.smartdance.lt/wp-content/uploads/2022/08/catwalk.gif\"></td>\n",
       "    <td><img width=\"187px\" src=\"https://www.smartdance.lt/wp-content/uploads/2022/08/duckwalk.gif\"></td>\n",
       "    <td><img width=\"187px\" src=\"https://www.smartdance.lt/wp-content/uploads/2022/08/floorwork.gif\"></td>\n",
       "    <td><img width=\"187px\" src=\"https://www.smartdance.lt/wp-content/uploads/2022/08/dipresized.gif\"></td>\n",
       "  </tr>\n",
       "</table>\n"
      ],
      "text/plain": [
       "<IPython.core.display.HTML object>"
      ]
     },
     "metadata": {},
     "output_type": "display_data"
    }
   ],
   "source": [
    "%%HTML\n",
    "<table>\n",
    "  <tr>\n",
    "    <td><p style=\"text-align:center;\">Hands Performance</p></td>\n",
    "    <td><p style=\"text-align:center;\">Catwalk</p></td>\n",
    "    <td><p style=\"text-align:center;\">Duckwalk</p></td>\n",
    "    <td><p style=\"text-align:center;\">Floor Performance</p></td>\n",
    "    <td><p style=\"text-align:center;\">Dips</p></td>\n",
    "  </tr>\n",
    "  <tr>\n",
    "    <td><img width=\"187px\" src=\"https://www.smartdance.lt/wp-content/uploads/2022/08/handperformance.gif\"></td>\n",
    "    <td><img width=\"187px\" src=\"https://www.smartdance.lt/wp-content/uploads/2022/08/catwalk.gif\"></td>\n",
    "    <td><img width=\"187px\" src=\"https://www.smartdance.lt/wp-content/uploads/2022/08/duckwalk.gif\"></td>\n",
    "    <td><img width=\"187px\" src=\"https://www.smartdance.lt/wp-content/uploads/2022/08/floorwork.gif\"></td>\n",
    "    <td><img width=\"187px\" src=\"https://www.smartdance.lt/wp-content/uploads/2022/08/dipresized.gif\"></td>\n",
    "  </tr>\n",
    "</table>"
   ]
  },
  {
   "cell_type": "markdown",
   "id": "d6f53b5e",
   "metadata": {},
   "source": [
    "#### Skillz\n",
    "\n",
    "Vogue šokio ir kultūros pradžia yra neatsiejama LGBTQ+ bendruomenės dalis, kuri prasidėjo 1960-aisiais, Harleme. Imituodami turtingus ir gražius to meto modelius bei aktorius, pozavusius įžymiems žurnalams, latino ir afroamerikiečių bendruomenės nariai rinkdavosi pogrindžiuose ir pozuodavo prieš veidrodį, naudojant įmantriausius rankų gestus ir sudėtingas pozas.\n",
    "\n",
    "Vogue yra šokio, mados, vaikščiojimo podiumu ir pozavimo derinys. Tiesą sakant, Vogue – ne kas kita, kaip savęs bei įvaizdžio pristatymas.\n",
    "\n",
    "Vogue treniruotės ypatingos tuo, kad turi stebuklingą galią išsklaidyti bet kokius nusistovėjusius stereotipus. \n",
    "\n",
    "Norėdami save išreikšti, Vogue kultūros atstovai pradėjo rengti vadinamuosius Ball‘us (iš čia ir kilo Vogue Ball koncepcija), kur kiekvienas galėjo save reprezentuoti taip, kaip nori: pasipuošti beprotiškais kostiumais, persirengti moterimi, parodijuoti supermodelius ir kino industrijos žvaigždes. Žmonės, kurie realiame gyvenime negalėjo išreikšti savęs taip, kaip norėtų, pilnavertiškai gyveno per Vogue Ball‘us, kur galėjo būti savimi.\n",
    "\n",
    "Dabar Vogue yra vienas populiariausių šiuolaikinio šokio stilių. Jis suteikia didžiulę erdvę saviraiškai. Taip yra dėl turtingos istorijos ir daugybės substilių bei krypčių. Vogue dėka galite įsikūnyti į savo geriausią versiją susikurdami puošniausią savo įvaizdį ir taip išreikšti tikrąjį save.\n",
    "\n",
    "Vogue nėra tik šokis, tai yra turtinga ir labai gili kultūra, kurioje bendruomenės nariai ne tik demonstruodavo save, bet ir taip protestavo prieš homofobiją bei rasizmą.\n",
    "\n",
    "Vogue kryptys:\n",
    "* Old Way - pozavimas bei tvirtas grakštus judėjimas, kur kiekvienas judesys tarsi viršelio nuotrauka\n",
    "* New Way - plastika, kampai, gracija, linijos bei kūno tempimas kiekviename judesyje\n",
    "* Vogue Fem - pasaulyje labiausiai išpopuliarėjusi kryptis, kuri atskleidžia ir pabrėžia moteriškumą. Vyrauja ne tik švelnumas, bet ir jėga\n",
    "\n",
    "#### Šok Šok\n",
    "\n",
    "Ekstravagancija, ekspresija, grakštumas – trys žodžiai tiksliai apibūdinantys Vogue šokio stilių. Vogue užsiėmimuose dirbama ties šokio pagrindais, susipažįstama su kultūra, kuriamos choreografijos, improvizuojama, bei pasikraunama geros energijos. Šio stiliaus šokiai ugdo muzikalumą, stiliaus ir aukštosios mados sampratą, skatina pasitikėjimą savimi, lavina atminį, bei fizinį pasirengimą."
   ]
  },
  {
   "cell_type": "markdown",
   "id": "b5e986ea",
   "metadata": {},
   "source": [
    "### Vogue treniruočių nauda\n",
    "#### Smart Dance\n",
    "Vogue treniruočių efektas – pagerėjusi kūno koordinacija, grakštumas, lankstumas, pozavimo įgūdžiai, pasitikėjimas savimi bei išlavėjęs stiliaus pojūtis.\n",
    "\n",
    "#### Skillz\n",
    "* **Tvirtinsi kūną. Išmoksi lengvai ir grakščiai atlikti sunkius judesius.** Nors žvelgiant iš šono, viskas atrodo be galo grakščiai bei lengvai, bet kūnui šis stilius yra tikras iššūkis – ko vertas vien judėjimas su aukštakulniais! Ir ne bet koks judėjimas, o koordinuotas, tikslus šokis, išnaudojant maksimalias amplitudes bei išlaikant tiesias linijas. Beje, patyrę šokėjai drąsiai pademonstruos ir akrobatinių triukų.\n",
    "\n",
    "* **Praplėsi savo asmenybę bei pasaulėžiūrą.** Pažintis su ryškia vogue kultūra lavina ne tik kūną, bet ir pasaulėžiūrą: keliame klausimus apie savivertę bei aplinkinių požiūrį, laisvėjame nuo vyraujančių stereotipų, eksperimentuojame su stiliumi, pratinamės išsiskirti iš minios, pamilti save ir nesidrovėti dėmesio! Pasak mūsų trenerės Dajanos, treniruotėse pajausite kas yra laisvė, savęs nevaržymas, asmens augimas ir pasinėrimas į save.\n",
    "\n",
    "* **Išmoksi girdėti muziką, laisvai judėti ir prarasi scenos baimę.** Vogue šokėjai dalyvauja įvairiuose renginiuose bei konkursuose, ruošia komandinius bei solo pasirodymus ir filmuoja profesionalius šokių video. Tad norint tobulėti ir susidraugauti su scena ir kamera, nuoseklus lankomumas yra labai svarbus.\n",
    "\n",
    "#### Insity\n",
    "Šio stiliaus šokiai ugdo muzikalumą, stiliaus ir aukštosios mados sampratą, skatina pasitikėjimą savimi, lavina atminį, bei fizinį pasirengimą. Vogue užsiėmimuose dirbama ties šokio pagrindais, mokomasi pačios kultūros, kuriamos choreografijos, improvizuojama bei visada pasikraunama geros energijos. "
   ]
  },
  {
   "cell_type": "markdown",
   "id": "4b720330",
   "metadata": {},
   "source": [
    "### Vogue treneriai\n",
    "#### Raidas iš Smart Dance\n",
    "\n",
    "Vogue šokio kultūros pradininkas Lietuvoje, profesionalus šokėjas, choreografas, diplomuotas šokio mokytojas, renginių organizatorius, kuris Vogue šokiu ir jo kultūra, sėkmingai kuria saugią erdvę LGBTQIA+ bendruomenės narių ir šią šokio kultūrą palaikančių žmonių saviraiškai. Nepaisant to, tai tik dalis darbų ir profesijų, kuriomis kasdieniniame gyvenime užsiima ir kuriomis spaudoje yra pristatomas mūsų Vogue šokio treneris Raidas.\n",
    "\n",
    "Vienas iš pagrindinių Raido, kaip trenerio, tikslų yra padėti žmonėms atrasti, atsiverti ir pamilti save tokius, kokie jie yra. Todėl ir į pačias treniruotes šokėjai susirenka ne tik mokytis šokti, bet ir švęsti savęs! Mokiniai dažniausiai apie Raidą atsiliepia kaip labai reiklų, bet atvirą ir geras emocijas garantuojantį trenerį. O mes puikiai matome, kad šios jo savybės kartu su sukaupta patirtimi ir sunkiu, bet nuoširdžiu darbu padeda jam su savo mokiniais pasiekti aukščiausių rezultatų!\n",
    "\n",
    "#### Dajana iš Skillz\n",
    "\n",
    "Dajana atrado Vogue šokio stilių 2018 metais, kuris tapo jos aistra ir vėliau daug daugiau nei tiesiog šokių stiliumi.\n",
    "\n",
    "Vogue kultūra tapo jai artima, todėl ji daug treniravosi, dalyvavo seminaruose su užsienio šokėjais ir nuolat tobulino savo įgūdžius. 2020 metais Dajana nusprendė dalintis savo sukaupta patirtimi ir sukurti nuoširdžią, draugišką bendruomenę – savo komandą, savo šeimą.\n",
    "\n",
    "Dajanos tikslas – sukurti saugią erdvę mokiniams, kurioje kiekvienas galėtų atsiskleisti, suprasti save ir, svarbiausia, mylėti save tokius, kokie yra.\n",
    "\n",
    "Kaip trenerė ir lyderė, ji siekia papildyti kiekvieno, kuris ateina į jos treniruotes, gyvenimą, padėtį, jei tik gali, arba tiesiog išklausyti. Dajana sukuria labai artimą ryšį su savo mokiniais – jie kartu keliauja, kalbasi įvairiomis temomis ir kuria stiprų pasitikėjimo ryšį. Dajana yra ne tik trenerė, nes šokis jos gyvenime nėra tik šokis.\n",
    "\n",
    "Kodėl verta prisijungti prie Dajanos treniruočių?\n",
    "\n",
    "* Komanda kaip šeima: Dajanos mokiniai tampa ne tik komandos nariais, bet ir šeima, kurioje vyrauja palaikymas ir pagarba.\n",
    "* Tarptautinės kelionės: Per sezoną planuojamos daugybė kelionių kartu su komandomis į Estiją, Latviją, Lenkiją, Nyderlandus, Prancūziją ir kitas šalis, kur šokėjai dalyvauja Vogue renginiuose ir leidžia laiką kartu su komanda.\n",
    "* Dajanai organizacija kelionių su komandomis yra vienas malonumas. Nesvarbu, ar tai bus skrydžiai su 25 mokiniais, ar linksma kelionė automobiliais!\n",
    "* Neapsakoma energija ir meilė darbui: Dajana turi nuostabų talentą, energijos ir meilės savo darbui, taip pat yra SKILLZ studijos direktorė. Ji pradėjo nuo administracijos, tapo renginių organizatore, komunikacijos vadove – jos patirtis neįkainojama.\n",
    "* Atlikimas ir dalyvavimas: Per 2023/24 sezoną Dajana su mokiniais dalyvavo 14 Vogue renginių per 10 mėnesių. Ši trenerė yra visiškai atsidavusi Vogue kultūrai ir savo mokiniams.\n",
    "* Vertybių ugdymas: Dajanos treniruotėse ne tik mokoma šokti. Akcentuojamas savęs pripažinimas, meilė sau ir kitiems, tolerancija, pagarba, palaikymas, gyvenimo vertybės ir santykiai.\n",
    " \n",
    "Dajanos mokiniai jau po vieno sezono laisvai jaučiasi improvizuodami, o sunkesnės choreografijos išmokstamos vis greičiau. Kelionės praplečia mokinių akiratį bei draugų ratą.\n",
    "\n",
    "#### Džiuginta Butkutė (JUJU) iš Šok Šok\n",
    "\n",
    "Vogue stiliaus mokytoja Džiuginta, dar kitaip žinoma Juju Campbell Laduree sceniniu vardu, yra viena iš Voguing Ballroom Scene kultūros atstovių Lietuvoje. Ne kartą dalyvavusi Paryžiuje, Lenkijoje, Latvijoje, Juju, bei jos mokiniai pelnė pirmąsias vietas, tokiose kategorijose, kaip – Face, European Runway, Best Overall Look, Beginners Runway, Performance ir etc..\n",
    "\n",
    "Ne kartą dalyvavo ir vis dar dalyvauja tarptautiniuose bei užsienio šalių konkursuose, taip pat yra užėmusi prizinių vietų ir renginyje pakviesta ne tik kaip dalyvė, bet ir kaip teisėja. Dabar Juju priklauso prancūzų “House of Laduree”, bei Kiki “House of Campbell” šeimoms.\n",
    "\n",
    "“Vogue užsiėmimuose dirbame ne tik su choreografijom, taip pat improvizuojame, bei ieškome savo individualaus sceninio amplua” – sako Juju – “Mokomės etiketo, laikysenos, pozavimo, moteriškumo, bei vyriškumo, kuriame saugią erdvę įvairių asmenybių saviraiškai.”\n",
    "\n",
    "Juju šoka Vogue stilių jau 8-eris metus, tačiau bendrai Juju šoka jau 20 metų.\n",
    "\n",
    "#### Aistė iš Smart Dance\n",
    "\n",
    "Aistė šokių pasaulyje gyvena jau 16 metų. Ilgą laiką šokusi sportinius šokius, Hip Hop, House, Dancehall, save pagaliau atrado Vogue bei High Heels šokių stiliuose. Tai jai atvėrė kelią į didesnį pasitikėjimą savimi ir meilę savo kūnui. Šokis Aistę išlaisvino iš kasdienės rutinos varžomų taisyklių ir stereotipų, o bendraminčių apsuptis lyg šiol motyvuoja ir kursto vidinę aistrą šokiui. Jau ne vienerius metus Aistė keliauja po Lietuvą ir Europą bei semiasi žinių iš tikrų savo srities profesionalų. Aktyviai dalyvauja seminaruose, stovyklose ir tobulina savo kūną, šokio įgūdžius bei kūrybiškumą. Taip pat dažnai galime ją išvysti ir šokių varžybose bei šokių kovose (battles). Ne vieną kartą tapusi čempione bei pelniusi prizines vietas, scenos šviesoje to siekia ir su savo mokiniais! Aistė mano, jog šokiams nereikia didelio talento. Geri rezultatai pasiekiami drauge treniruočių metu įdedant pastangų bei noro. O kai esi ir bendraminčių apsuptyje, kelionė po šokio pasaulį tampa daug įdomesnė bei spalvingesnė. Kaip pati Aistė sako: „Niekas neateina savaime, tik užsispyrimas bei kasdienis darbas išugdo kūno grakštumą, elegancija bei lankstumą“."
   ]
  },
  {
   "cell_type": "markdown",
   "id": "b14089e7",
   "metadata": {},
   "source": [
    "### Vogue šokių grupės\n",
    "Naujiems nariams reikėtų apsilankyti pradedančiųjų treniruotėje (net ir turint šokio patirties), o toliau pasitarus su treneriu nuspręsti kokioje grupėje patogiausia šokti.\n",
    "\n",
    "#### Smart Dance\n",
    "* **Pradedantieji**. Ši grupė skirta neturintiems visai arba turintiems nedaug šokio patirties ir norintiems Vogue šokio mokytis nuo pat jo pagrindų. Čia daugiausiai dėmesio skiriama Vogue Fem šokio stilistikai. Gilinamasi į kūno judėjimą, muzikalumą ir visus 5-kis pagrindinius elementus, kuriuos jungiame į įvairias šokio kombinacijas ir choreografijas. Taip pat, susipažįstame su Vogue Old Way ir Vogue New Way bei keletu kitų Vogue šokio kultūroje sutinkamų disciplinų kaip Runway, Face, Best Dressed ir kt.\n",
    "* **Pramokę**. Kadangi pagrindus jau turite, šių treniruočių metu dar stipriau gilinsite savo žinias apie Vogue Fem šokio stilistiką. Vis daugiau dėmesio skirsite kūno judėjimui, muzikalumui ir visiems 5-kiems pagrindiniams elementams. Juos jungsite į įvairias jau sudėtingesnes šokio kombinacijas ir choreografijas. Taip pat, stiprinsite žinias apie Vogue Old Way ir Vogue New Way bei keletu kitų Vogue šokio kultūroje sutinkamų disciplinų kaip Runway, Face, Best Dressed ir kt. \n",
    "* **Open**. Ši grupė yra atviro lygmens, tai reiškia, jog skirta tiek jau su pagrindiniais Vogue šokio elementais susipažinusiems šokėjams tiek naujokams. Čia pagal bendras grupės galimybes mokomasi įvairių Vogue šokio elementų variacijų, plečiame kūno galimybių ribas ir tobuliname savo koordinaciją. Išbandome pirmąsias improvizacijos užduotis ir neriame į daug didesnio pasitikėjimo savimi paieškas.\n",
    "* **Pažengę**. Ši grupė skirta ne tik gebantiems puikiai atlikti Vogue šokio elementus, bet jau ir laisvai improvizuojantiems arba tai darantiems drąsiai. Čia klausimą “kaip atlikti šį judesį?”, keičia klausimas “kas aš esu kai atliekų šį judesį ir ką noriu juo perteikti?”. Ieškome, eksperimentuojame, gilinames ir auginame savo asmenybę. Sužinome ir gebame išnaudoti savo stipriąsias savybes, bet nepamirštame ir tobuliname silpnąsias. Tampame ne tik profesionaliais Vogue šokio šokėjais, bet ir tikrais bendruomenės nariais."
   ]
  },
  {
   "cell_type": "code",
   "execution_count": 100,
   "id": "ce18c2d7",
   "metadata": {},
   "outputs": [
    {
     "data": {
      "text/html": [
       "<table>\n",
       "  <tr>\n",
       "    <td><p style=\"text-align:center;\">Pradedantieji</p></td>\n",
       "    <td><p style=\"text-align:center;\">Pramokę</p></td>\n",
       "    <td><p style=\"text-align:center;\">Open</p></td>\n",
       "    <td><p style=\"text-align:center;\">Pažengę</p></td>\n",
       "  </tr>\n",
       "  <tr>\n",
       "    <td><iframe allow=\"fullscreen\" style='width:235px' src=\"https://www.youtube.com/embed/o-5a-Xy8v_E\"></iframe></td>\n",
       "    <td><iframe allow=\"fullscreen\" style='width:235px' src=\"https://www.youtube.com/embed/pSloG_ilqKw\"></iframe></td>\n",
       "    <td><iframe allow=\"fullscreen\" style='width:235px' src=\"https://www.youtube.com/embed/QGLFmVPOxiE\"></iframe></td>\n",
       "    <td><iframe allow=\"fullscreen\" style='width:235px' src=\"https://www.youtube.com/embed/ywj3JyhfTF0\"></iframe></td>\n",
       "  </tr>\n",
       "</table>\n"
      ],
      "text/plain": [
       "<IPython.core.display.HTML object>"
      ]
     },
     "metadata": {},
     "output_type": "display_data"
    }
   ],
   "source": [
    "%%HTML\n",
    "<table>\n",
    "  <tr>\n",
    "    <td><p style=\"text-align:center;\">Pradedantieji</p></td>\n",
    "    <td><p style=\"text-align:center;\">Pramokę</p></td>\n",
    "    <td><p style=\"text-align:center;\">Open</p></td>\n",
    "    <td><p style=\"text-align:center;\">Pažengę</p></td>\n",
    "  </tr>\n",
    "  <tr>\n",
    "    <td><iframe allow=\"fullscreen\" style='width:235px' src=\"https://www.youtube.com/embed/o-5a-Xy8v_E\"></iframe></td>\n",
    "    <td><iframe allow=\"fullscreen\" style='width:235px' src=\"https://www.youtube.com/embed/pSloG_ilqKw\"></iframe></td>\n",
    "    <td><iframe allow=\"fullscreen\" style='width:235px' src=\"https://www.youtube.com/embed/QGLFmVPOxiE\"></iframe></td>\n",
    "    <td><iframe allow=\"fullscreen\" style='width:235px' src=\"https://www.youtube.com/embed/ywj3JyhfTF0\"></iframe></td>\n",
    "  </tr>\n",
    "</table>"
   ]
  },
  {
   "cell_type": "markdown",
   "id": "4cfdf1b1",
   "metadata": {},
   "source": [
    "#### Skillz\n",
    "* **Pradedantieji** (ankstesnė vogue patirtis: 0–1 m.)  \n",
    "Šiose treniruotėse šokėjai susipažins su skirtingomis šokamomis vogue kryptimis.  \n",
    "Vogue treniruotėse išmoksite ne tik bazinių visų stilių elementų, bet ir sudėtingesnių junginių. Išmoksite pasakoti istoriją su rankomis, naudoti rankų iliuzijas, grakščiai vaikščioti, išreikšti save per šokį, pamilti ir priimti save, plastiškai judėti ir ne tik. Lavinsite muzikalumą ir koordinaciją. Šoksite skirtingas choreografijas, ruošitės renginiams bei konkursams.  \n",
    "Sužinosite daugiau apie Vogue kultūrą ir turint noro būsite ruošiami Vogue renginiams – Ball’ams.  \n",
    "Šios treniruotės padės ne tik išmokti šokti Vogue stilius, bet ir atsipalaiduoti, išsilaisvinti, padidinti pasitikėjimą savimi ir drąsą.  \n",
    "Per treniruotes bus apžvelgiama ir nešokama Vogue stiliaus dalis. Mokysitės vaikščioti podiumu bei pozuoti. Po tokių treniruočių net nepastebėsite, kaip Jūsų gyvenimo stilius, laikysena, pasitikėjimas savimi pagerės.\n",
    "* **Pažengusieji** (ankstesnė vogue patirtis: nuo 1 m.)\n",
    "Pažengusiųjų treniruotės skirtos norintiems dar labiau pasinerti į Vogue pasaulį – tiek į judesius, tiek į pačią kultūrą. Mokoma sudėtingesnių variacijų, technikų bei choreografijų, dar daugiau dėmesio skiriant kūno plastikos, koordinacijos ir klausos lavinimui.  \n",
    "Savarankiškai kurdami judesių kombinacijas, vykdant užduotis ir pratimus pažengusiųjų grupės šokėjai lavina improvizacijos įgūdžius, ieško savitos šokio raiškos.  \n",
    "Šokėjai yra ruošiami kelionėms į užsienio šalis dalyvavimui Vogue Ball’uose ir seminaruose.\n",
    "* **Komandinė** (anskstesnė vogue patirtis: nuo 2 m.)\n",
    "Komandinėje grupėje šokėjai mokosi sudėtingesnių judėsių, kombinacijų ir choreografijų. Daugiau dėmesio skiria atskiroms Vogue kategorijoms. Atranda kiekvieno komandos nario stilius ir puoselėja juos komandiškai.  \n",
    "Lavina muzikalumą, koordinaciją, jėgą, lankstumą bei ištvermę. Daug dėmesio skiria improvizacijai, savęs bei savo stiliaus atradimui ir mokymuisi apie Vogue Ballroom scene.  \n",
    "Komanda yra ruošiama kelionėms ir dalyvavimams Vogue Ball (ne tik šokamoms kategorijoms) užsienyje."
   ]
  },
  {
   "cell_type": "markdown",
   "id": "b5cdc141",
   "metadata": {},
   "source": [
    "### Vogue šokio įrašai"
   ]
  },
  {
   "cell_type": "markdown",
   "id": "acaf6dca",
   "metadata": {},
   "source": [
    "#### Smart Dance Studio"
   ]
  },
  {
   "cell_type": "code",
   "execution_count": 101,
   "id": "e2c8f672",
   "metadata": {
    "scrolled": true
   },
   "outputs": [
    {
     "data": {
      "text/html": [
       "<table>\n",
       "  <tr><td><p style=\"text-align:left,\">Raidas</p></td></tr>\n",
       "  <tr>\n",
       "    <td><iframe allow=\"fullscreen\" style='width:315px' src=\"https://www.youtube.com/embed/2OcEuVjjG0U\"></iframe></td>\n",
       "    <td><iframe allow=\"fullscreen\" style='width:315px' src=\"https://www.youtube.com/embed/hb3Sw1Z6xmc\"></iframe></td>\n",
       "    <td><iframe allow=\"fullscreen\" style='width:315px' src=\"https://www.youtube.com/embed/zYDORrGCQTc\"></iframe></td>\n",
       "  </tr>\n",
       "  <tr>\n",
       "    <td><iframe allow=\"fullscreen\" style='width:315px' src=\"https://www.youtube.com/embed/1nzfIxy0cLg\"></iframe></td>\n",
       "    <td><iframe allow=\"fullscreen\" style='width:315px' src=\"https://www.youtube.com/embed/H3YfNoW1RmA\"></iframe></td>\n",
       "    <td><iframe allow=\"fullscreen\" style='width:315px' src=\"https://www.youtube.com/embed/iYRVrDAYcsI\"></iframe></td>\n",
       "  </tr>\n",
       "  </tr>\n",
       "    <td><iframe allow=\"fullscreen\" style='width:315px' src=\"https://player.vimeo.com/video/844207230?color&amp;autopause=0&amp;loop=0&amp;muted=0&amp;title=1&amp;portrait=1&amp;byline=1#t=\"></iframe></td>\n",
       "  <tr>\n",
       "  <tr><td><p style=\"text-align:left,\">Aistė (Raido mokinė)</p></td></tr>\n",
       "  <tr>\n",
       "    <td><iframe allow=\"fullscreen\" style='width:315px' src=\"https://www.youtube.com/embed/ZlVbfu4odK0\"></iframe></td>\n",
       "    <td><iframe allow=\"fullscreen\" style='width:315px' src=\"https://www.youtube.com/embed/o8iNO7BwjlA\"></iframe></td>\n",
       "    <td><iframe allow=\"fullscreen\" style='width:315px' src=\"https://player.vimeo.com/video/844203804?color&amp;autopause=0&amp;loop=0&amp;muted=0&amp;title=1&amp;portrait=1&amp;byline=1#t=\"></iframe></td>\n",
       "  </tr>\n",
       "  <tr><td><p style=\"text-align:left,\">Family</p></td></tr>\n",
       "  <tr>\n",
       "    <td><iframe allow=\"fullscreen\" style='width:315px' src=\"https://www.youtube.com/embed/pSloG_ilqKw\"></iframe></td>\n",
       "    <td><iframe allow=\"fullscreen\" style='width:315px' src=\"https://www.youtube.com/embed/ywj3JyhfTF0\"></iframe></td>\n",
       "    <td><iframe allow=\"fullscreen\" style='width:315px' src=\"https://www.youtube.com/embed/H6aCyrktalM\"></iframe></td>\n",
       "  </tr>\n",
       "  <tr>\n",
       "    <td><iframe allow=\"fullscreen\" style='width:315px' src=\"https://www.youtube.com/embed/-A833an2N_Y\"></iframe></td>\n",
       "    <td><iframe allow=\"fullscreen\" style='width:315px' src=\"https://www.youtube.com/embed/QGLFmVPOxiE\"></iframe></td>\n",
       "    <td><iframe allow=\"fullscreen\" style='width:315px' src=\"https://www.youtube.com/embed/2N0U7sOadSs\"></iframe></td>\n",
       "  </tr>\n",
       "  <tr>\n",
       "    <td><iframe allow=\"fullscreen\" style='width:315px' src=\"https://www.youtube.com/embed/ck_jkUilJcA\"></iframe></td>\n",
       "    <td><iframe allow=\"fullscreen\" style='width:315px' src=\"https://www.youtube.com/embed/inBX1XxPJeA\"></iframe></td>\n",
       "    <td><iframe allow=\"fullscreen\" style='width:315px' src=\"https://www.youtube.com/embed/dwaP06B6xjA\"></iframe></td>\n",
       "  </tr>\n",
       "  <tr>\n",
       "    <td><iframe allow=\"fullscreen\" style='width:315px' src=\"https://www.youtube.com/embed/o-5a-Xy8v_E\"></iframe></td>\n",
       "    <td><iframe allow=\"fullscreen\" style='width:315px' src=\"https://www.youtube.com/embed/0HfpuecDjLE\"></iframe></td>\n",
       "    <td><iframe allow=\"fullscreen\" style='width:315px' src=\"https://www.youtube.com/embed/k5fLVXO9p_4\"></iframe></td>\n",
       "  </tr>\n",
       "  <tr>\n",
       "\n",
       "    <td><iframe allow=\"fullscreen\" style='width:315px' src=\"https://www.youtube.com/embed/fDZk5uq_OmY\"></iframe></td>\n",
       "    <td><iframe allow=\"fullscreen\" style='width:315px' src=\"https://www.youtube.com/embed/6LmVeeZg-C0\"></iframe></td>\n",
       "    <td><iframe allow=\"fullscreen\" style='width:315px' src=\"https://www.youtube.com/embed/d5DI0s5EN3s\"></iframe></td>\n",
       "  </tr>\n",
       "  <tr>\n",
       "    <td><iframe allow=\"fullscreen\" style='width:315px' src=\"https://www.youtube.com/embed/pi7pWadshBY\"></iframe></td>\n",
       "    <td><iframe allow=\"fullscreen\" style='width:315px' src=\"https://www.youtube.com/embed/-Pr14ZSygno\"></iframe></td>\n",
       "  </tr>\n",
       "</table>\n"
      ],
      "text/plain": [
       "<IPython.core.display.HTML object>"
      ]
     },
     "metadata": {},
     "output_type": "display_data"
    }
   ],
   "source": [
    "%%HTML\n",
    "<table>\n",
    "  <tr><td><p style=\"text-align:left,\">Raidas</p></td></tr>\n",
    "  <tr>\n",
    "    <td><iframe allow=\"fullscreen\" style='width:315px' src=\"https://www.youtube.com/embed/2OcEuVjjG0U\"></iframe></td>\n",
    "    <td><iframe allow=\"fullscreen\" style='width:315px' src=\"https://www.youtube.com/embed/hb3Sw1Z6xmc\"></iframe></td>\n",
    "    <td><iframe allow=\"fullscreen\" style='width:315px' src=\"https://www.youtube.com/embed/zYDORrGCQTc\"></iframe></td>\n",
    "  </tr>\n",
    "  <tr>\n",
    "    <td><iframe allow=\"fullscreen\" style='width:315px' src=\"https://www.youtube.com/embed/1nzfIxy0cLg\"></iframe></td>\n",
    "    <td><iframe allow=\"fullscreen\" style='width:315px' src=\"https://www.youtube.com/embed/H3YfNoW1RmA\"></iframe></td>\n",
    "    <td><iframe allow=\"fullscreen\" style='width:315px' src=\"https://www.youtube.com/embed/iYRVrDAYcsI\"></iframe></td>\n",
    "  </tr>\n",
    "  </tr>\n",
    "    <td><iframe allow=\"fullscreen\" style='width:315px' src=\"https://player.vimeo.com/video/844207230?color&amp;autopause=0&amp;loop=0&amp;muted=0&amp;title=1&amp;portrait=1&amp;byline=1#t=\"></iframe></td>\n",
    "  <tr>\n",
    "  <tr><td><p style=\"text-align:left,\">Aistė (Raido mokinė)</p></td></tr>\n",
    "  <tr>\n",
    "    <td><iframe allow=\"fullscreen\" style='width:315px' src=\"https://www.youtube.com/embed/ZlVbfu4odK0\"></iframe></td>\n",
    "    <td><iframe allow=\"fullscreen\" style='width:315px' src=\"https://www.youtube.com/embed/o8iNO7BwjlA\"></iframe></td>\n",
    "    <td><iframe allow=\"fullscreen\" style='width:315px' src=\"https://player.vimeo.com/video/844203804?color&amp;autopause=0&amp;loop=0&amp;muted=0&amp;title=1&amp;portrait=1&amp;byline=1#t=\"></iframe></td>\n",
    "  </tr>\n",
    "  <tr><td><p style=\"text-align:left,\">Family</p></td></tr>\n",
    "  <tr>\n",
    "    <td><iframe allow=\"fullscreen\" style='width:315px' src=\"https://www.youtube.com/embed/pSloG_ilqKw\"></iframe></td>\n",
    "    <td><iframe allow=\"fullscreen\" style='width:315px' src=\"https://www.youtube.com/embed/ywj3JyhfTF0\"></iframe></td>\n",
    "    <td><iframe allow=\"fullscreen\" style='width:315px' src=\"https://www.youtube.com/embed/H6aCyrktalM\"></iframe></td>\n",
    "  </tr>\n",
    "  <tr>\n",
    "    <td><iframe allow=\"fullscreen\" style='width:315px' src=\"https://www.youtube.com/embed/-A833an2N_Y\"></iframe></td>\n",
    "    <td><iframe allow=\"fullscreen\" style='width:315px' src=\"https://www.youtube.com/embed/QGLFmVPOxiE\"></iframe></td>\n",
    "    <td><iframe allow=\"fullscreen\" style='width:315px' src=\"https://www.youtube.com/embed/2N0U7sOadSs\"></iframe></td>\n",
    "  </tr>\n",
    "  <tr>\n",
    "    <td><iframe allow=\"fullscreen\" style='width:315px' src=\"https://www.youtube.com/embed/ck_jkUilJcA\"></iframe></td>\n",
    "    <td><iframe allow=\"fullscreen\" style='width:315px' src=\"https://www.youtube.com/embed/inBX1XxPJeA\"></iframe></td>\n",
    "    <td><iframe allow=\"fullscreen\" style='width:315px' src=\"https://www.youtube.com/embed/dwaP06B6xjA\"></iframe></td>\n",
    "  </tr>\n",
    "  <tr>\n",
    "    <td><iframe allow=\"fullscreen\" style='width:315px' src=\"https://www.youtube.com/embed/o-5a-Xy8v_E\"></iframe></td>\n",
    "    <td><iframe allow=\"fullscreen\" style='width:315px' src=\"https://www.youtube.com/embed/0HfpuecDjLE\"></iframe></td>\n",
    "    <td><iframe allow=\"fullscreen\" style='width:315px' src=\"https://www.youtube.com/embed/k5fLVXO9p_4\"></iframe></td>\n",
    "  </tr>\n",
    "  <tr>\n",
    "\n",
    "    <td><iframe allow=\"fullscreen\" style='width:315px' src=\"https://www.youtube.com/embed/fDZk5uq_OmY\"></iframe></td>\n",
    "    <td><iframe allow=\"fullscreen\" style='width:315px' src=\"https://www.youtube.com/embed/6LmVeeZg-C0\"></iframe></td>\n",
    "    <td><iframe allow=\"fullscreen\" style='width:315px' src=\"https://www.youtube.com/embed/d5DI0s5EN3s\"></iframe></td>\n",
    "  </tr>\n",
    "  <tr>\n",
    "    <td><iframe allow=\"fullscreen\" style='width:315px' src=\"https://www.youtube.com/embed/pi7pWadshBY\"></iframe></td>\n",
    "    <td><iframe allow=\"fullscreen\" style='width:315px' src=\"https://www.youtube.com/embed/-Pr14ZSygno\"></iframe></td>\n",
    "  </tr>\n",
    "</table>"
   ]
  },
  {
   "cell_type": "markdown",
   "id": "6df3c42d",
   "metadata": {},
   "source": [
    "Šaltinis: [SMART Dance Studio Vogue playlistas](https://www.youtube.com/watch?v=hb3Sw1Z6xmc&list=PL-0YvLwqHAklJaDptu3Hm1a4_Idav3rqd&index=1)"
   ]
  },
  {
   "cell_type": "markdown",
   "id": "dcad66d6",
   "metadata": {},
   "source": [
    "#### Skillz"
   ]
  },
  {
   "cell_type": "code",
   "execution_count": 102,
   "id": "6bc8ba85",
   "metadata": {},
   "outputs": [
    {
     "data": {
      "text/html": [
       "<table>\n",
       "  <tr><td><p style=\"text-align:left,\">Jenny 007</p></td></tr>\n",
       "  <tr>\n",
       "    <td><iframe allow=\"fullscreen\" style='width:315px' src=\"https://www.youtube.com/embed/5qcjcPpz3pA\"></iframe></td>\n",
       "    <td><iframe allow=\"fullscreen\" style='width:315px' src=\"https://www.youtube.com/embed/SUe6odo-M0Y\"></iframe></td>\n",
       "  </tr>\n",
       "  <tr><td><p style=\"text-align:left,\">Dajana</p></td></tr>\n",
       "  <tr>\n",
       "    <td><iframe allow=\"fullscreen\" style='width:315px' src=\"https://www.youtube.com/embed/jCkcyn7MrOY\"></iframe></td>\n",
       "    <td><iframe allow=\"fullscreen\" style='width:315px' src=\"https://www.youtube.com/embed/-_wmDXnr0xk\"></iframe></td>\n",
       "    <td><iframe allow=\"fullscreen\" style='width:315px' src=\"https://www.youtube.com/embed/xJeGyZMlDAE\"></iframe></td>\n",
       "  </tr>\n",
       "  <tr><td><p style=\"text-align:left,\">Family</p></td></tr>\n",
       "  <tr>\n",
       "    <td><iframe allow=\"fullscreen\" style='width:315px' src=\"https://www.youtube.com/embed/K7Y8nvcKA1Q\"></iframe></td>\n",
       "    <td><iframe allow=\"fullscreen\" style='width:315px' src=\"https://www.youtube.com/embed/JZJbfNjIRsI\"></iframe></td>\n",
       "    <td><iframe allow=\"fullscreen\" style='width:315px' src=\"https://www.youtube.com/embed/KWzKZbGj7VM\"></iframe></td>\n",
       "  </tr>\n",
       "  <tr>\n",
       "    <td><iframe allow=\"fullscreen\" style='width:315px' src=\"https://www.youtube.com/embed/OlnxF3f_d4o\"></iframe></td>\n",
       "    <td><iframe allow=\"fullscreen\" style='width:315px' src=\"https://www.youtube.com/embed/SpMoiUgcVwY\"></iframe></td>\n",
       "    <td><iframe allow=\"fullscreen\" style='width:315px' src=\"https://www.youtube.com/embed/HfB95p7XN6s\"></iframe></td>\n",
       "  </tr>\n",
       "  <tr>\n",
       "    <td><iframe allow=\"fullscreen\" style='width:315px' src=\"https://www.youtube.com/embed/BFOlggOaq9E\"></iframe></td>\n",
       "    <td><iframe allow=\"fullscreen\" style='width:315px' src=\"https://www.youtube.com/embed/TGx3gfzvkp4\"></iframe></td>\n",
       "    <td><iframe allow=\"fullscreen\" style='width:315px' src=\"https://www.youtube.com/embed/ZEdrokAlaFA\"></iframe></td>\n",
       "  </tr>\n",
       "  <tr>\n",
       "    <td><iframe allow=\"fullscreen\" style='width:315px' src=\"https://www.youtube.com/embed/qoTbSh-Xog0\"></iframe></td>\n",
       "    <td><iframe allow=\"fullscreen\" style='width:315px' src=\"https://www.youtube.com/embed/sRKBJNdUis8\"></iframe></td>\n",
       "    <td><iframe allow=\"fullscreen\" style='width:315px' src=\"https://www.youtube.com/embed/hN-GRQbZr6c\"></iframe></td>\n",
       "  </tr>\n",
       "  <tr>\n",
       "    <td><iframe allow=\"fullscreen\" style='width:315px' src=\"https://www.youtube.com/embed/hN-GRQbZr6c\"></iframe></td>\n",
       "    <td><iframe allow=\"fullscreen\" style='width:315px' src=\"https://www.youtube.com/embed/sSG80Gsumqc\"></iframe></td>\n",
       "    <td><iframe allow=\"fullscreen\" style='width:315px' src=\"https://www.youtube.com/embed/oWtEXpzmtqU\"></iframe></td>\n",
       "  </tr>\n",
       "  <tr>\n",
       "    <td><iframe allow=\"fullscreen\" style='width:315px' src=\"https://www.youtube.com/embed/wKH_awi4cOo\"></iframe></td>\n",
       "    <td><iframe allow=\"fullscreen\" style='width:315px' src=\"https://www.youtube.com/embed/ux9-Yuuyk0A\"></iframe></td>\n",
       "    <td><iframe allow=\"fullscreen\" style='width:315px' src=\"https://www.youtube.com/embed/gmfNMFBgAVY\"></iframe></td>\n",
       "  </tr>\n",
       "  <tr>\n",
       "    <td><iframe allow=\"fullscreen\" style='width:315px' src=\"https://www.youtube.com/embed/eehCY8Lhuns\"></iframe></td>\n",
       "    <td><iframe allow=\"fullscreen\" style='width:315px' src=\"https://www.youtube.com/embed/3nwWR_ePr58\"></iframe></td>\n",
       "    <td><a href=\"https://www.youtube.com/watch?v=7fu8e6BLbU8\">Destructo - West Coast | Vogue beginners | Vogue New Way choreo by Jenny@SKILLZ.lt<a></td>\n",
       "  </tr>\n",
       "</table>\n"
      ],
      "text/plain": [
       "<IPython.core.display.HTML object>"
      ]
     },
     "metadata": {},
     "output_type": "display_data"
    }
   ],
   "source": [
    "%%HTML\n",
    "<table>\n",
    "  <tr><td><p style=\"text-align:left,\">Jenny 007</p></td></tr>\n",
    "  <tr>\n",
    "    <td><iframe allow=\"fullscreen\" style='width:315px' src=\"https://www.youtube.com/embed/5qcjcPpz3pA\"></iframe></td>\n",
    "    <td><iframe allow=\"fullscreen\" style='width:315px' src=\"https://www.youtube.com/embed/SUe6odo-M0Y\"></iframe></td>\n",
    "  </tr>\n",
    "  <tr><td><p style=\"text-align:left,\">Dajana</p></td></tr>\n",
    "  <tr>\n",
    "    <td><iframe allow=\"fullscreen\" style='width:315px' src=\"https://www.youtube.com/embed/jCkcyn7MrOY\"></iframe></td>\n",
    "    <td><iframe allow=\"fullscreen\" style='width:315px' src=\"https://www.youtube.com/embed/-_wmDXnr0xk\"></iframe></td>\n",
    "    <td><iframe allow=\"fullscreen\" style='width:315px' src=\"https://www.youtube.com/embed/xJeGyZMlDAE\"></iframe></td>\n",
    "  </tr>\n",
    "  <tr><td><p style=\"text-align:left,\">Family</p></td></tr>\n",
    "  <tr>\n",
    "    <td><iframe allow=\"fullscreen\" style='width:315px' src=\"https://www.youtube.com/embed/K7Y8nvcKA1Q\"></iframe></td>\n",
    "    <td><iframe allow=\"fullscreen\" style='width:315px' src=\"https://www.youtube.com/embed/JZJbfNjIRsI\"></iframe></td>\n",
    "    <td><iframe allow=\"fullscreen\" style='width:315px' src=\"https://www.youtube.com/embed/KWzKZbGj7VM\"></iframe></td>\n",
    "  </tr>\n",
    "  <tr>\n",
    "    <td><iframe allow=\"fullscreen\" style='width:315px' src=\"https://www.youtube.com/embed/OlnxF3f_d4o\"></iframe></td>\n",
    "    <td><iframe allow=\"fullscreen\" style='width:315px' src=\"https://www.youtube.com/embed/SpMoiUgcVwY\"></iframe></td>\n",
    "    <td><iframe allow=\"fullscreen\" style='width:315px' src=\"https://www.youtube.com/embed/HfB95p7XN6s\"></iframe></td>\n",
    "  </tr>\n",
    "  <tr>\n",
    "    <td><iframe allow=\"fullscreen\" style='width:315px' src=\"https://www.youtube.com/embed/BFOlggOaq9E\"></iframe></td>\n",
    "    <td><iframe allow=\"fullscreen\" style='width:315px' src=\"https://www.youtube.com/embed/TGx3gfzvkp4\"></iframe></td>\n",
    "    <td><iframe allow=\"fullscreen\" style='width:315px' src=\"https://www.youtube.com/embed/ZEdrokAlaFA\"></iframe></td>\n",
    "  </tr>\n",
    "  <tr>\n",
    "    <td><iframe allow=\"fullscreen\" style='width:315px' src=\"https://www.youtube.com/embed/qoTbSh-Xog0\"></iframe></td>\n",
    "    <td><iframe allow=\"fullscreen\" style='width:315px' src=\"https://www.youtube.com/embed/sRKBJNdUis8\"></iframe></td>\n",
    "    <td><iframe allow=\"fullscreen\" style='width:315px' src=\"https://www.youtube.com/embed/hN-GRQbZr6c\"></iframe></td>\n",
    "  </tr>\n",
    "  <tr>\n",
    "    <td><iframe allow=\"fullscreen\" style='width:315px' src=\"https://www.youtube.com/embed/hN-GRQbZr6c\"></iframe></td>\n",
    "    <td><iframe allow=\"fullscreen\" style='width:315px' src=\"https://www.youtube.com/embed/sSG80Gsumqc\"></iframe></td>\n",
    "    <td><iframe allow=\"fullscreen\" style='width:315px' src=\"https://www.youtube.com/embed/oWtEXpzmtqU\"></iframe></td>\n",
    "  </tr>\n",
    "  <tr>\n",
    "    <td><iframe allow=\"fullscreen\" style='width:315px' src=\"https://www.youtube.com/embed/wKH_awi4cOo\"></iframe></td>\n",
    "    <td><iframe allow=\"fullscreen\" style='width:315px' src=\"https://www.youtube.com/embed/ux9-Yuuyk0A\"></iframe></td>\n",
    "    <td><iframe allow=\"fullscreen\" style='width:315px' src=\"https://www.youtube.com/embed/gmfNMFBgAVY\"></iframe></td>\n",
    "  </tr>\n",
    "  <tr>\n",
    "    <td><iframe allow=\"fullscreen\" style='width:315px' src=\"https://www.youtube.com/embed/eehCY8Lhuns\"></iframe></td>\n",
    "    <td><iframe allow=\"fullscreen\" style='width:315px' src=\"https://www.youtube.com/embed/3nwWR_ePr58\"></iframe></td>\n",
    "    <td><a href=\"https://www.youtube.com/watch?v=7fu8e6BLbU8\">Destructo - West Coast | Vogue beginners | Vogue New Way choreo by Jenny@SKILLZ.lt<a></td>\n",
    "  </tr>\n",
    "</table>"
   ]
  },
  {
   "cell_type": "markdown",
   "id": "8ab68456",
   "metadata": {},
   "source": [
    "Šaltinis: [Skillz Vogue playlistas](https://www.youtube.com/watch?v=yq9K6fxCA-8&list=PLX45tlfD8EaPJv4rnKN_Tsx2KgPZgu3u1&index=1)\n",
    "#### ŠokŠok"
   ]
  },
  {
   "cell_type": "code",
   "execution_count": 103,
   "id": "f4e36d8d",
   "metadata": {},
   "outputs": [
    {
     "data": {
      "text/html": [
       "<table>\n",
       "  <tr><td><p style=\"text-align:left;\">Džiuginta</p></td></tr>\n",
       "  <tr>\n",
       "    <td><iframe allow=\"fullscreen\" style='width:315px' src=\"https://www.youtube.com/embed/usuOC3TtgOA\"></iframe></td>\n",
       "    <td><iframe allow=\"fullscreen\" style='width:315px' src=\"https://www.youtube.com/embed/DKpS2TAQZjI\"></iframe></td>\n",
       "    <td><iframe allow=\"fullscreen\" style='width:315px' src=\"https://www.youtube.com/embed/jIR78O30k4Y\"></iframe></td>\n",
       "  </tr> \n",
       "  <tr><td><p style=\"text-align:left;\">Family</p></td></tr>\n",
       "  <tr>\n",
       "    <td><iframe allow=\"fullscreen\" style='width:315px' src=\"https://www.youtube.com/embed/yLE7Joh7zPk\"></iframe></td>\n",
       "    <td><iframe allow=\"fullscreen\" style='width:315px' src=\"https://www.youtube.com/embed/WcxEtA2igX4\"></iframe></td>\n",
       "    <td><iframe allow=\"fullscreen\" style='width:315px' src=\"https://www.youtube.com/embed/gfvLpnPwn_U\"></iframe></td>\n",
       "  </tr>\n",
       "  <tr>\n",
       "    <td><iframe allow=\"fullscreen\" style='width:315px' src=\"https://www.youtube.com/embed/xKM3iVIH6ls\"></iframe></td>\n",
       "    <td><iframe allow=\"fullscreen\" style='width:315px' src=\"https://www.youtube.com/embed/gNFfhXSZ6qI\"></iframe></td>\n",
       "    <td><iframe allow=\"fullscreen\" style='width:315px' src=\"https://www.youtube.com/embed/dKoStX5hDZs\"></iframe></td>\n",
       "  </tr>\n",
       "  <tr>\n",
       "    <td><iframe allow=\"fullscreen\" style='width:315px' src=\"https://www.youtube.com/embed/gmdNTsRVn9M\"></iframe></td>\n",
       "    <td><iframe allow=\"fullscreen\" style='width:315px' src=\"https://www.youtube.com/embed/GpYwX2Xr7s0\"></iframe></td>\n",
       "    <td><iframe allow=\"fullscreen\" style='width:315px' src=\"https://www.youtube.com/embed/aysayXFxkd4\"></iframe></td>\n",
       "  </tr>\n",
       "</table>\n"
      ],
      "text/plain": [
       "<IPython.core.display.HTML object>"
      ]
     },
     "metadata": {},
     "output_type": "display_data"
    }
   ],
   "source": [
    "%%HTML\n",
    "<table>\n",
    "  <tr><td><p style=\"text-align:left;\">Džiuginta</p></td></tr>\n",
    "  <tr>\n",
    "    <td><iframe allow=\"fullscreen\" style='width:315px' src=\"https://www.youtube.com/embed/usuOC3TtgOA\"></iframe></td>\n",
    "    <td><iframe allow=\"fullscreen\" style='width:315px' src=\"https://www.youtube.com/embed/DKpS2TAQZjI\"></iframe></td>\n",
    "    <td><iframe allow=\"fullscreen\" style='width:315px' src=\"https://www.youtube.com/embed/jIR78O30k4Y\"></iframe></td>\n",
    "  </tr> \n",
    "  <tr><td><p style=\"text-align:left;\">Family</p></td></tr>\n",
    "  <tr>\n",
    "    <td><iframe allow=\"fullscreen\" style='width:315px' src=\"https://www.youtube.com/embed/yLE7Joh7zPk\"></iframe></td>\n",
    "    <td><iframe allow=\"fullscreen\" style='width:315px' src=\"https://www.youtube.com/embed/WcxEtA2igX4\"></iframe></td>\n",
    "    <td><iframe allow=\"fullscreen\" style='width:315px' src=\"https://www.youtube.com/embed/gfvLpnPwn_U\"></iframe></td>\n",
    "  </tr>\n",
    "  <tr>\n",
    "    <td><iframe allow=\"fullscreen\" style='width:315px' src=\"https://www.youtube.com/embed/xKM3iVIH6ls\"></iframe></td>\n",
    "    <td><iframe allow=\"fullscreen\" style='width:315px' src=\"https://www.youtube.com/embed/gNFfhXSZ6qI\"></iframe></td>\n",
    "    <td><iframe allow=\"fullscreen\" style='width:315px' src=\"https://www.youtube.com/embed/dKoStX5hDZs\"></iframe></td>\n",
    "  </tr>\n",
    "  <tr>\n",
    "    <td><iframe allow=\"fullscreen\" style='width:315px' src=\"https://www.youtube.com/embed/gmdNTsRVn9M\"></iframe></td>\n",
    "    <td><iframe allow=\"fullscreen\" style='width:315px' src=\"https://www.youtube.com/embed/GpYwX2Xr7s0\"></iframe></td>\n",
    "    <td><iframe allow=\"fullscreen\" style='width:315px' src=\"https://www.youtube.com/embed/aysayXFxkd4\"></iframe></td>\n",
    "  </tr>\n",
    "</table>"
   ]
  },
  {
   "cell_type": "markdown",
   "id": "00aee184",
   "metadata": {},
   "source": [
    "Šaltinis: [ŠokŠok Vogue playlistas](https://www.youtube.com/watch?v=yLE7Joh7zPk&list=PLikW0h0bG8Q37-L0UBnRzk4Ya2TqCASsn&index=1)"
   ]
  },
  {
   "cell_type": "markdown",
   "id": "146c368a",
   "metadata": {},
   "source": [
    "#### Insity"
   ]
  },
  {
   "cell_type": "code",
   "execution_count": 104,
   "id": "978e7d65",
   "metadata": {
    "scrolled": true
   },
   "outputs": [
    {
     "data": {
      "text/html": [
       "<table>\n",
       "  <tr><td><p style=\"text-align:left;\">Džiuginta</p></td></tr>\n",
       "  <tr>\n",
       "    <td><iframe allow=\"fullscreen\" style='width:315px' src=\"https://www.youtube.com/embed/C0MamTg_qj0\"></iframe></td>\n",
       "  </tr> \n",
       "  <tr><td><p style=\"text-align:left;\">Family</p></td></tr>\n",
       "  <tr>\n",
       "    <td><iframe allow=\"fullscreen\" style='width:315px' src=\"https://www.youtube.com/embed/vwPK_2cvskY\"></iframe></td>\n",
       "    <td><iframe allow=\"fullscreen\" style='width:315px' src=\"https://www.youtube.com/embed/nsg6LJMnVRA\"></iframe></td>\n",
       "  </tr>\n",
       "</table>\n"
      ],
      "text/plain": [
       "<IPython.core.display.HTML object>"
      ]
     },
     "metadata": {},
     "output_type": "display_data"
    }
   ],
   "source": [
    "%%HTML\n",
    "<table>\n",
    "  <tr><td><p style=\"text-align:left;\">Džiuginta</p></td></tr>\n",
    "  <tr>\n",
    "    <td><iframe allow=\"fullscreen\" style='width:315px' src=\"https://www.youtube.com/embed/C0MamTg_qj0\"></iframe></td>\n",
    "  </tr> \n",
    "  <tr><td><p style=\"text-align:left;\">Family</p></td></tr>\n",
    "  <tr>\n",
    "    <td><iframe allow=\"fullscreen\" style='width:315px' src=\"https://www.youtube.com/embed/vwPK_2cvskY\"></iframe></td>\n",
    "    <td><iframe allow=\"fullscreen\" style='width:315px' src=\"https://www.youtube.com/embed/nsg6LJMnVRA\"></iframe></td>\n",
    "  </tr>\n",
    "</table>"
   ]
  },
  {
   "cell_type": "markdown",
   "id": "89c0b87e",
   "metadata": {},
   "source": [
    "Šaltinis: [INSITI Artistų Namai Youtube](https://www.youtube.com/c/INSITIArtist%C5%B3Namai/videos) *(keyword: juju)*"
   ]
  },
  {
   "cell_type": "markdown",
   "id": "4c45c0ba",
   "metadata": {},
   "source": [
    "### Low Air\n",
    "Low Air studija taip pat prieš 7-8 metus mokė Vogue, bet patys pasirodymai labiau buvo orientuoti į jų pačių organizuojamus renginius, tokius kaip Didysis Metų Įvykis, kur šokėjai tarsi teatro aktoriai pasirodo Menų Spaustuvėje, bei šokių sezono uždarymas. "
   ]
  },
  {
   "cell_type": "code",
   "execution_count": 97,
   "id": "9bc23c20",
   "metadata": {},
   "outputs": [
    {
     "data": {
      "text/html": [
       "<table>\n",
       "  <tr>\n",
       "    <td><iframe allow=\"fullscreen\" style='width:315px' src=\"https://www.youtube.com/embed/r4L7evequ3w\"></iframe></td>\n",
       "    <td><iframe allow=\"fullscreen\" style='width:315px' src=\"https://www.youtube.com/embed/iPtUpnq0Uws\"></iframe></td>\n",
       "    <td><iframe allow=\"fullscreen\" style='width:315px' src=\"https://www.youtube.com/embed/XbofB76CvtY\"></iframe></td>\n",
       "  </tr>\n",
       "  <tr>\n",
       "    <td><iframe allow=\"fullscreen\" style='width:315px' src=\"https://www.youtube.com/embed/ITOyD-6Qy5Q\"></iframe></td>\n",
       "    <td><iframe allow=\"fullscreen\" style='width:315px' src=\"https://www.youtube.com/embed/RDRatF2vb_o\"></iframe></td>\n",
       "  </tr>\n",
       "</table>\n"
      ],
      "text/plain": [
       "<IPython.core.display.HTML object>"
      ]
     },
     "metadata": {},
     "output_type": "display_data"
    }
   ],
   "source": [
    "%%HTML\n",
    "<table>\n",
    "  <tr>\n",
    "    <td><iframe allow=\"fullscreen\" style='width:315px' src=\"https://www.youtube.com/embed/r4L7evequ3w\"></iframe></td>\n",
    "    <td><iframe allow=\"fullscreen\" style='width:315px' src=\"https://www.youtube.com/embed/iPtUpnq0Uws\"></iframe></td>\n",
    "    <td><iframe allow=\"fullscreen\" style='width:315px' src=\"https://www.youtube.com/embed/XbofB76CvtY\"></iframe></td>\n",
    "  </tr>\n",
    "  <tr>\n",
    "    <td><iframe allow=\"fullscreen\" style='width:315px' src=\"https://www.youtube.com/embed/ITOyD-6Qy5Q\"></iframe></td>\n",
    "    <td><iframe allow=\"fullscreen\" style='width:315px' src=\"https://www.youtube.com/embed/RDRatF2vb_o\"></iframe></td>\n",
    "  </tr>\n",
    "</table>"
   ]
  },
  {
   "cell_type": "markdown",
   "id": "8224adbb",
   "metadata": {},
   "source": [
    "Taip pat, kaip matome kai kuriuose video, 2017 m. pas kuos buvo organizuojamas Dance Ballas pavadinimu *Vilnius is Burning 2017* \n",
    "* [Vogue Dance Ball renginys Lietuvoje](https://www.youtube.com/playlist?list=PLHRRkYb_XfyaOeE8W-wIEcvNx2mmgLdlM)"
   ]
  },
  {
   "cell_type": "markdown",
   "id": "c439bdd3",
   "metadata": {},
   "source": [
    "### Apie Vogue kryptis\n",
    "Visos studijos pradedančiųjų grupes moko Vogue Fem, tad ši kryptis gerai žinoma. Sudėtingiau atrasti kitų krypčių choreografijų. Kad nereiktų atskirai ieškoti, iš ankstesnių įrašų pateiksiu tai, kas nėra vien Vogue Fem, bet daugumoje Old Way.\n",
    "\n",
    "* [VOGUE 12\" VERSION - Madonna | (by Juju)](https://www.youtube.com/watch?v=nsg6LJMnVRA)\n",
    "* [šok/šok studija | #VOGUE 3 (by JUJU)](https://www.youtube.com/watch?v=aysayXFxkd4)\n",
    "* [Kaytranada - Chances | Vogue beginners (by Dajana)](https://www.youtube.com/watch?v=3nwWR_ePr58)\n",
    "* [Vogue Old Way| Šokių stovykla (by Dajana)](https://www.youtube.com/watch?v=ux9-Yuuyk0A)\n",
    "* [Hollis P. Monroe - I´m Lonely | (by Jenny 007)](https://www.youtube.com/watch?v=wKH_awi4cOo)\n",
    "* [Vogue Old Way | NEW LEGACY | (by Jenny 007)](https://www.youtube.com/watch?v=sRKBJNdUis8)\n",
    "* [Pažengusieji New Dynasty (by Jenny 007)](https://www.youtube.com/watch?v=qoTbSh-Xog0)\n",
    "* [Vogue Old Way choreo (by Jenny 007)](https://www.youtube.com/watch?v=SpMoiUgcVwY)\n",
    "* [Vogue team DYNASTY | Beyonce - Alien Superstar (MikeQ X Dj Fade Remix) (by Dajana (Jenny)](https://www.youtube.com/watch?v=JZJbfNjIRsI) - kombinuotas su Vogue Fem\n",
    "* [Kevin jz prodigy • GO INSANE THE GO OFF (by Jenny 007)](https://www.youtube.com/watch?v=OlnxF3f_d4o) - kombinuotas su Vogue Fem\n",
    "* [šok/šok studija | VOGUE beginners #1 (by Juju)](https://www.youtube.com/watch?v=GpYwX2Xr7s0) - kombinuotas su Vogue Fem\n",
    "* [Vogue | NEW DYNASTY | Vogue treniruotės su Dajana](https://www.youtube.com/watch?v=BFOlggOaq9E) - podiumas\n",
    "* [Andy MILAN - Tokyo Pis Pis Drift (Remix Femme) (by Jenny)](https://www.youtube.com/watch?v=-_wmDXnr0xk) - Vogue Fem, bet daug New Way elementų\n",
    "* [Dajana and Anita collab](https://www.youtube.com/watch?v=jCkcyn7MrOY) - Vogue Fem + Dancehall stilių sujungimas"
   ]
  },
  {
   "cell_type": "markdown",
   "id": "2cc25dd2",
   "metadata": {},
   "source": [
    "### Kitos inspiracijos\n",
    "#### ChatGPT\n",
    "##### What are the most known documentaries of vogue music style?\n",
    "\n",
    "Vogue music style has been featured in several documentaries that explore its history, cultural impact, and significance. Some of the most well-known documentaries about vogue music style include:\n",
    "\n",
    "1. \"Paris is Burning\" (1990) - Directed by Jennie Livingston, this documentary provides an in-depth look at the New York City ball culture of the 1980s, including vogueing, and explores issues of race, class, gender, and sexuality.\n",
    "\n",
    "2. \"Strike a Pose\" (2016) - This documentary follows the lives of the backup dancers who performed with Madonna on her \"Blond Ambition\" tour in 1990 and explores their experiences with vogueing and its impact on the LGBTQ community.\n",
    "\n",
    "3. \"Kiki\" (2016) - Directed by Sara Jordenö, this documentary delves into the contemporary ballroom scene in New York City, focusing on the lives and experiences of LGBTQ youth of color who participate in vogueing competitions.\n",
    "\n",
    "4. \"How Do I Look\" (2006) - Directed by Wolfgang Busch, this documentary explores the underground ballroom culture in New York City and features interviews with prominent figures in the vogue and ballroom community.\n",
    "\n",
    "These documentaries offer valuable insights into the history, culture, and artistry of vogue music style and its impact on the LGBTQ community and popular culture.\n",
    "\n",
    "##### How is waacking related to vogueing?\n",
    "\n",
    "Waacking and voguing are both dance styles that originated in the LGBTQ+ ballroom scene in the 1970s and 1980s. While they share some similarities, such as their origins in underground club culture and emphasis on performance and self-expression, they are distinct dance styles with different movements and techniques.\n",
    "\n",
    "Waacking is characterized by arm movements, poses, and hand gestures, often performed to disco or funk music. It emphasizes sharp, precise movements and dramatic poses, with a focus on showcasing individual style and personality.\n",
    "\n",
    "Voguing, on the other hand, is a dance style that incorporates poses, fluid arm movements, and intricate footwork inspired by fashion runway models. It is typically performed to house music and is known for its exaggerated, stylized movements and fierce attitude.\n",
    "\n",
    "While both waacking and voguing have roots in the same ballroom culture, they have evolved into separate dance styles with their own unique techniques and aesthetics.\n",
    "\n",
    "##### Which concepts of ball culture are presented in song Vogue of Madonna?\n",
    "\n",
    "Madonna's song \"Vogue\" is heavily inspired by the ball culture of the LGBTQ+ community, particularly the underground drag ball scene in New York City. The song and its accompanying music video pay homage to the art of voguing, a dance style that originated in the ballroom culture of Harlem in the 1960s and 1970s. Here are some key concepts of ball culture presented in Madonna's \"Vogue\":\n",
    "\n",
    "1. Voguing: The song and music video prominently feature the dance style of voguing, which involves striking poses and fluid movements inspired by fashion models and poses from magazines like Vogue. Voguing is a form of self-expression and performance that is often showcased at drag balls within the ballroom scene.\n",
    "\n",
    "2. House culture: In ball culture, participants are organized into \"houses,\" which serve as chosen families and support systems for LGBTQ+ individuals, particularly those who are marginalized or rejected by their biological families. Madonna references this concept in the lyrics of \"Vogue\" with lines like \"Strike a pose, there's nothing to it / Vogue.\"\n",
    "\n",
    "3. Glamour and fashion: Ball culture celebrates glamour, style, and creativity, with participants often competing in categories that showcase their fashion sense and runway skills. Madonna's music video for \"Vogue\" features elaborate costumes, high fashion looks, and choreography that reflect the extravagant and glamorous aesthetic of ballroom culture.\n",
    "\n",
    "4. Performance and competition: Drag balls are known for their competitive nature, with participants vying for trophies and recognition in various categories such as voguing, fashion, and realness. Madonna's \"Vogue\" captures the spirit of performance and competition that is central to ball culture, with references to \"strike a pose\" and \"let your body move to the music.\"\n",
    "\n",
    "Overall, Madonna's \"Vogue\" captures the essence of ball culture by showcasing voguing, house culture, glamour, fashion, performance, and competition. The song and its accompanying visuals celebrate the artistry, creativity, and resilience of the LGBTQ+ community within the ballroom scene, bringing attention to a subculture that has historically been overlooked and marginalized.\n",
    "\n",
    "##### Wiki\n",
    "* [Ball culture](https://en.wikipedia.org/wiki/Ball_culture)\n",
    "* [Vogue Dance](https://en.wikipedia.org/wiki/Vogue_(dance))\n",
    "\n",
    "##### Main Influence\n",
    "* [Madonna - Vogue 1990](https://www.youtube.com/watch?v=GuJQSAiODqI)\n",
    "* [Deep in Vogue - Malcolm McLaren, The Bootzilla Orchestra -1989](https://photos.google.com/share/AF1QipORH394BCXxmOpNyEafYQ0VxpGs1VdGPbXqaxWLexCM6nCEYWoPzfVWviZbJpEfuQ/photo/AF1QipP76V6AjnMo7Zjb2pXWcpFsRQslHFmg55uiTfTr?key=SWpWVVB1VllPbDF5elpXeVdIQkNZYXBzQzVOaC1R_)\n",
    "* [Paris is burning 1990](https://www.youtube.com/watch?v=nI7EhpY2yaA)\n",
    "* [Kiki 2016](https://www.imdb.com/title/tt5278598/)\n",
    "\n",
    "##### Battles\n",
    "* [Lithuanian Cup 2014](https://www.youtube.com/watch?v=vFfFTQZ10Y0&list=PLnnw2JpD_Gx3Tekg3ySe7DvumvfHOMhc5&index=4)\n",
    "* [Lithuanian Cup 2016](https://www.youtube.com/watch?v=e5ilG2Mv0e0&list=PLnnw2JpD_Gx2bvUodP4qY1Ts_4IpHlokM&index=4)\n",
    "* [Lithuanian Cup 2017 Raidas Showcase](https://www.youtube.com/watch?v=mmVVX9Ipw7o&list=PLnnw2JpD_Gx3xQlSiTS_7Nnta-UpVr9ou&index=7)\n",
    "* [Lithuaian Cup 2017 Typhoon Showcase](https://www.youtube.com/watch?v=XIDfwsSqvPg&list=PLnnw2JpD_Gx3xQlSiTS_7Nnta-UpVr9ou&index=9)\n",
    "* [Lithuania Cup 2017 Final](https://www.youtube.com/watch?v=zmyB9exzkD8&list=PLnnw2JpD_Gx22-dq_mw824RD7gPK7pyOB&index=4)"
   ]
  },
  {
   "cell_type": "code",
   "execution_count": 43,
   "id": "965564ca",
   "metadata": {},
   "outputs": [],
   "source": [
    "#SokSok\n",
    "\"\"\"\n",
    "https://www.youtube.com/embed/yLE7Joh7zPk\n",
    "https://www.youtube.com/embed/WcxEtA2igX4\n",
    "https://www.youtube.com/embed/gfvLpnPwn_U\n",
    "https://www.youtube.com/embed/jIR78O30k4Y\n",
    "https://www.youtube.com/embed/gNFfhXSZ6qI\n",
    "https://www.youtube.com/embed/dKoStX5hDZs\n",
    "https://www.youtube.com/embed/gmdNTsRVn9M\n",
    "https://www.youtube.com/embed/GpYwX2Xr7s0\n",
    "https://www.youtube.com/embed/aysayXFxkd4\n",
    "https://www.youtube.com/embed/xKM3iVIH6ls\n",
    "https://www.youtube.com/embed/usuOC3TtgOA\n",
    "https://www.youtube.com/embed/DKpS2TAQZjI\n",
    "\"\"\"\n",
    "#Skillz\n",
    "\"\"\"\n",
    "https://www.youtube.com/embed/yq9K6fxCA-8\n",
    "https://www.youtube.com/embed/K7Y8nvcKA1Q\n",
    "https://www.youtube.com/embed/JZJbfNjIRsI\n",
    "https://www.youtube.com/embed/KWzKZbGj7VM\n",
    "https://www.youtube.com/embed/OlnxF3f_d4o\n",
    "https://www.youtube.com/embed/SpMoiUgcVwY\n",
    "https://www.youtube.com/embed/HfB95p7XN6s\n",
    "https://www.youtube.com/embed/BFOlggOaq9E\n",
    "https://www.youtube.com/embed/TGx3gfzvkp4\n",
    "https://www.youtube.com/embed/ZEdrokAlaFA\n",
    "https://www.youtube.com/embed/qoTbSh-Xog0\n",
    "https://www.youtube.com/embed/sRKBJNdUis8\n",
    "https://www.youtube.com/embed/5qcjcPpz3pA\n",
    "https://www.youtube.com/embed/SUe6odo-M0Y\n",
    "https://www.youtube.com/embed/hN-GRQbZr6c\n",
    "https://www.youtube.com/embed/sSG80Gsumqc\n",
    "https://www.youtube.com/embed/7fu8e6BLbU8\n",
    "https://www.youtube.com/embed/oWtEXpzmtqU\n",
    "https://www.youtube.com/embed/wKH_awi4cOo\n",
    "https://www.youtube.com/embed/jCkcyn7MrOY\n",
    "https://www.youtube.com/embed/-_wmDXnr0xk\n",
    "https://www.youtube.com/embed/ux9-Yuuyk0A\n",
    "https://www.youtube.com/embed/xJeGyZMlDAE\n",
    "https://www.youtube.com/embed/gmfNMFBgAVY\n",
    "https://www.youtube.com/embed/eehCY8Lhuns\n",
    "https://www.youtube.com/embed/3nwWR_ePr58\n",
    "https://www.youtube.com/watch?v=KMbkVIa8Xaw\"\"\"\n",
    "pass"
   ]
  }
 ],
 "metadata": {
  "kernelspec": {
   "display_name": "Python 3 (ipykernel)",
   "language": "python",
   "name": "python3"
  },
  "language_info": {
   "codemirror_mode": {
    "name": "ipython",
    "version": 3
   },
   "file_extension": ".py",
   "mimetype": "text/x-python",
   "name": "python",
   "nbconvert_exporter": "python",
   "pygments_lexer": "ipython3",
   "version": "3.10.9"
  },
  "toc": {
   "base_numbering": 1,
   "nav_menu": {},
   "number_sections": true,
   "sideBar": true,
   "skip_h1_title": false,
   "title_cell": "Table of Contents",
   "title_sidebar": "Contents",
   "toc_cell": false,
   "toc_position": {},
   "toc_section_display": true,
   "toc_window_display": false
  },
  "varInspector": {
   "cols": {
    "lenName": 16,
    "lenType": 16,
    "lenVar": 40
   },
   "kernels_config": {
    "python": {
     "delete_cmd_postfix": "",
     "delete_cmd_prefix": "del ",
     "library": "var_list.py",
     "varRefreshCmd": "print(var_dic_list())"
    },
    "r": {
     "delete_cmd_postfix": ") ",
     "delete_cmd_prefix": "rm(",
     "library": "var_list.r",
     "varRefreshCmd": "cat(var_dic_list()) "
    }
   },
   "types_to_exclude": [
    "module",
    "function",
    "builtin_function_or_method",
    "instance",
    "_Feature"
   ],
   "window_display": false
  }
 },
 "nbformat": 4,
 "nbformat_minor": 5
}
