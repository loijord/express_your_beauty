{
 "cells": [
  {
   "cell_type": "markdown",
   "id": "baf0e123",
   "metadata": {},
   "source": [
    "## Waacking šokis\n",
    "### Laikas, vieta, kaina\n",
    "Waacking šokti siūlo vos 1 šokių studija Vilniuje: \n",
    "* [Low Air](https://lowair.lt/mokykla/apie-pamokas/waacking/) - atvirų durų dienos rugsėjo 7-8 d. Šokti pradėti nuo rugsėjo 9 d. \n",
    "  * II ir IV, 18:00 arba 20:00 su Aura, Gedimino pr. 2a prie Katedros\n",
    "  * Kaina 80€/mėn, 2 kartai per savaitę\n",
    "  * Sudaromas abonementas 5 arba 10 mėn.\n",
    "    \n",
    "* [Skillz](https://skillz.lt/waacking/) - treniruotės vyko metus.\n",
    "* City Dance šokių ir sveikatingumo studija - užsidarė."
   ]
  },
  {
   "cell_type": "markdown",
   "id": "6b936c68",
   "metadata": {},
   "source": [
    "Klausome muzikos, pagal kurią yra šokamas Waacking: \n",
    "\n",
    "* [Naktinio Saimono grojaraštis](https://www.youtube.com/watch?v=xm3kbnPGg1Q&list=PLTBQEkYHuJ-CO_uWH4J7QQfuD0l9LP2WT)\n",
    "* [Low Air šokių komandos grojaraštis](https://www.youtube.com/watch?v=hn0o88MMfJI&list=PLHRRkYb_Xfyb8WhFVBuOkt9vi5RZT6_NP&index=1)\n",
    "\n",
    "Žiūrime Waacking pradžiamokslį:"
   ]
  },
  {
   "cell_type": "code",
   "execution_count": 56,
   "id": "dc112619",
   "metadata": {},
   "outputs": [
    {
     "data": {
      "text/html": [
       "<iframe allow=\"fullscreen\" width=\"560\" height=\"315\" src=\"https://www.youtube.com/embed/-_g114wG-7Q\"></iframe>\n"
      ],
      "text/plain": [
       "<IPython.core.display.HTML object>"
      ]
     },
     "metadata": {},
     "output_type": "display_data"
    }
   ],
   "source": [
    "%%HTML\n",
    "<iframe allow=\"fullscreen\" width=\"560\" height=\"315\" src=\"https://www.youtube.com/embed/-_g114wG-7Q\"></iframe>"
   ]
  },
  {
   "cell_type": "markdown",
   "id": "11327639",
   "metadata": {},
   "source": [
    "### Kas yra waacking šokis?\n",
    "\n",
    "Waacking pirmieji treneriai Lietuvoje pradėjo mokyti apie 2015 metus, daugiausiai prie jo išpopuliarėjimo prisidėjo Brigida.\n",
    "\n",
    "#### Brigida\n",
    "Waacking - tai šokio stilius neturintis lyties, kuris skatina būti atviru sau pačiam bei skleisti individulumą. Tai laisvė, saviraiška, nuostabi šokio kelionė, kurioje gali įsikūnyti į skirtingus personažus, kurti savitas istorijas ir dramas. Tai vizuali muzikos garsų išraška, kūno kalba, kuri leidžia pamatyti žmonėms tai, ką jie girdi.\n",
    "\n",
    "O viskas prasidėjo dar 1970 m. Los Andžele LGBT bendruomenės naktiniuose klubuose. Tuo metu daugiausiai juodaodžių, Latino amerikiečių bei azijiečių vyrų negalėjo laisvai deklaruoti savo seksualinės orientacijos, todėl tik gėjų klubuose jie galėjo pilnai atsiskleisti be jokio visuomenės smerkimo. Waacking šokio stilius buvo pradėtas šokti pagal 70-ųjų disko muziką, kurią klubuose tuo metu leido žymiausias Dj Michael - Angelon ir šis stilius iš kitų išsiskyrė greitais sukamaisiais rankų judesiais, išraiškingomis pozomis bei ekspresyviu muzikos garsų akcentavimu.\n",
    "\n",
    "Pats terminas Waacking atsirado kiek vėliau, nes iš pradžių buvo vartojama sąvoka Punking. O visa tai prasidėjo nuo to, kad žodžiu Punk paniekinamai buvo vadinami homosesualūs vyrai, tačiau jų šokio stilių pavadinus punking, šis žodis gavo kiek teigiamesnę reikšmę. Žodis Whack reiškia ne šokio stilių, o pagrindinį judesį, kuris iš anglų kalbos išvertus reiškia daužuti ar trenkti kažkam ir senuose Betmeno filmuose būtent per kovų sceną ekrane pasirodydavo šis žodis WHACK! Dėl neigiamos šio žodžio reikšmės su laiku H raidė buvo išimta, o vietoj jos pridėta A. Laikui bėgant žmonės pamilo šokio stilių Punking, tačiau jie nenorėjo būti siejami su šiam žodžiui priskiriama reikšme, todėl jie pavadino šį šokio stilių Waackin, o po to kitas šokėjas pridėjo raidę G ir taip mes šiandien turime Waacking šokio stilių.\n",
    " \n",
    "Tuometinius šokėjus, dar vadinamus Original Punks (Arthur Goff, Andrew Frank, Tinker Toy) labiausiai inspiravo nebylusis kinas, miuziklas, animaciniai, Looney Tunes filmukai ir tokie Holivudo aktoriai, kaip Marilyn Monroe, Greta Garbo ir visa tai jiems leido kurti tikroviškąišką dramą ir išgyvenamą jų savitą istoriją. O inspiracijos iš Bruce Lee filmų, kitų kovos menų bei gimnastikos įnešė į šį stilių daug aštrių, staigių judesių ir net akrobatinių triukų. Labiausiai Waackin šokio stilius išpopuliarėjo žymiausiam to meto telefizijos šou Soul Train. Vieni šokėjai jungėsi su kitais, kūrė savo grupes ir taip skleidė bendruomenę tiek New Yorke, tiek net Japonijoj. Beje Soul Train išpopuliarėjo ir dauguma gatvės šokio stilių. Deja tai tęsėsi neilgai, nes 1980-aisiais visą kultūrą stipriai paveikė AIDS epidemija ir paliko tik pėdsakus keliuose filmuose ar muzikiniuose klipuose, kol 2003 m. žymus šokėjas Brian Green įtikino legendinį Soul Train šokėją Tyrone Proctor atgaivinti Waacking šokio kultūrą ir išmokinti naująją kartą, kad jie skleistų ir augintų bendruomenę toliau. Taigi dabar Waackingas keliauja po visą pasaulį, įnešdavas skirtingo skonio, charakterio, kultūrinio konteksto ir savitumo."
   ]
  },
  {
   "cell_type": "code",
   "execution_count": 57,
   "id": "3031739c",
   "metadata": {},
   "outputs": [
    {
     "data": {
      "text/html": [
       "<table>\n",
       "  <tr>\n",
       "      <tr><td><p style=\"text-align:left,\">Tyrone Proctor atgaivina Waacking šokio kultūrą </p></td></tr>\n",
       "  </tr>\n",
       "  <tr>\n",
       "    <td><iframe allow=\"fullscreen\" width='450px' height='300px' src=\"https://www.youtube.com/embed/GaUHZGnTzhw\"></iframe></td>\n",
       "  </tr>\n",
       "</table>\n"
      ],
      "text/plain": [
       "<IPython.core.display.HTML object>"
      ]
     },
     "metadata": {},
     "output_type": "display_data"
    }
   ],
   "source": [
    "%%HTML\n",
    "<table>\n",
    "  <tr>\n",
    "      <tr><td><p style=\"text-align:left,\">Tyrone Proctor atgaivina Waacking šokio kultūrą </p></td></tr>\n",
    "  </tr>\n",
    "  <tr>\n",
    "    <td><iframe allow=\"fullscreen\" width='450px' height='300px' src=\"https://www.youtube.com/embed/GaUHZGnTzhw\"></iframe></td>\n",
    "  </tr>\n",
    "</table>"
   ]
  },
  {
   "cell_type": "markdown",
   "id": "5afa5dea",
   "metadata": {},
   "source": [
    "#### Skillz\n",
    "Waacking’as prasidėjo 1970m. Los Andželo gėjų klubuose, kur nepasiturintys juodaodžių, latino amerikiečių ir azijiečių vyrai, viešumoje turėję slėpti savo tapatybę, čia galėjo laisvai atsiskleisti ir išreikšti save disko muzikoje, taip pabėgdami nuo visuomenės smerkimo. Tie žmonės buvo vadinami „punks“, jie pasinaudojo tuo ir „Punked the music“. Taip suteikdami šokiui didelės dramos įvaizdį. Todėl originaliai šokis buvo vadinamas PUNKING.\n",
    "\n",
    "Šokio atgaivinimo katalizatoriumi tapo Brian Green 2003-iasiais metais ėmęs skatinti vyresniuosius šokėjus dalintis žiniomis su naująja waacking kartą, kurią matome šiandien.\n",
    "\n",
    "Ir nors dabar waacking daugiausia yra matomas choreografijose arba muzikiniuose klipuose, originaliai jis buvo šokamas klubuose ir vakarėliuose, kur šokėjai šoko vieni su kitais. Pagrindinės vertybės ir aspektai, leidžiantys identifikuoti waacking, apima individualumą, šventimą, saviraišką, laisvę, istorijos pasakojimą ir dramatiškumą. Waacking šokis buvo įkvėptas tyliųjų filmų, tokių žvaigždžių kaip Marilyn Monroe, Fred Astaire, Charlie Chaplin, miuziklų, kovos menų, Bruce Lee filmų bei komiksų.\n",
    "\n",
    "Waacking šokis yra muzikos veidrodis. Šokdami waacking Jūs atspindite muziką, gaudydami muzikos garsus bei įsijausdami į muzikos charakterį tokiu būdu, kad net negirdint melodijos ir tik matant šokį, Jūs „matot ir muziką“. Waacking’e judėjimas atspindi muzikos grūvą susietą su džiazine, dramatiška tyliųjų filmų judesio tėkme (flow). Šis stilius išlaisvina, padeda pasitikėti savimi ir suteikia galimybę sukurti savo charakterį. Šokant waacking’ą galima kurti, ieškoti ar įsikūnyti į norimą personažą, taip pabėgti nuo kasdieninių rūpesčių ir atsipalaiduoti.\n",
    "\n",
    "Waacking susideda iš:\n",
    "\n",
    "* waack - tikslūs rankų bei delnų judesiai pabrėžiant akcentus muzikoje.\n",
    "* poses - taip pat, waacking’e naudojamos pozos, kurios dažniausiai staigiai sustoja arba perėjimas iš pozos į pozą dramatiškai plaukia.\n",
    "* character - neatsiejama šio stiliaus dalis yra charizma ir šokėjų asmenybės charakteris, kuris privalo būti parodomas per šį emocionalų šokį.\n",
    "* drama/ punking - emocijų, kurias atskleidžia muzikos nuotaika, atspindėjimas kūnu (arba kažkas tokio). Tai yra vaidyba, istorijos pasakojimas šokiu.\n",
    "\n",
    "#### Lowair\n",
    "Waacking – šokio stilius, iki mūsų atkeliavęs iš Funk ir Disco eros naktinių klubų Los Andžele, o išpopuliarėjęs legendinės TV laidos „Soul Train“ pagalba. Pirmieji šokėjai savo judesius kūrė imituodami juodai-baltų filmų žvaigždes (pavyzdžiui, Marilyn Monroe ar Jane Russell), o konkrečiau – stengdamiesi šokiu perteikti to meto rankų judesius, linijas, pozas. Viską sujungus su Disco muzika, Waacking tapo energingu ir užvedančiu šokiu, kurio epicentre – tikslūs rankų, delnų judesiai pabrėžiant muzikinius akcentus, daug charizmos bei veržlaus charakterio, sukurto spalvingų šokėjų asmenybių.\n",
    "\n",
    "#### Pažintis su Waacking anglų kalba"
   ]
  },
  {
   "cell_type": "code",
   "execution_count": 58,
   "id": "581ca60e",
   "metadata": {},
   "outputs": [
    {
     "data": {
      "text/html": [
       "<table>\n",
       "  <tr>\n",
       "    <td><iframe allow=\"fullscreen\" width='400px' height='250px' src=\"https://www.youtube.com/embed/l62XRkUym2Q\"></iframe></td>\n",
       "    <td><iframe allow=\"fullscreen\" width='400px' height='250px' src=\"https://www.youtube.com/embed/0qUj-OORN10\"></iframe></td>\n",
       "  </tr>\n",
       "</table>\n"
      ],
      "text/plain": [
       "<IPython.core.display.HTML object>"
      ]
     },
     "metadata": {},
     "output_type": "display_data"
    }
   ],
   "source": [
    "%%HTML\n",
    "<table>\n",
    "  <tr>\n",
    "    <td><iframe allow=\"fullscreen\" width='400px' height='250px' src=\"https://www.youtube.com/embed/l62XRkUym2Q\"></iframe></td>\n",
    "    <td><iframe allow=\"fullscreen\" width='400px' height='250px' src=\"https://www.youtube.com/embed/0qUj-OORN10\"></iframe></td>\n",
    "  </tr>\n",
    "</table>"
   ]
  },
  {
   "cell_type": "markdown",
   "id": "49f0b9a5",
   "metadata": {},
   "source": [
    "### Waacking treniruočių nauda\n",
    "#### Skillz\n",
    "**Grakščiai ir lengvai judėsi.** Waacking – koordinuotas, tikslus šokis, išnaudojant maksimalias amplitudes bei išlaikant tiesias linijas. Per treniruotes treneriai stengsis išmokyti mokinius ne tik waacking šokio stiliaus pagrindų ir choreografijų, bet ir pasidalinti savo sukaupta patirtimi ir žiniomis. Nors žvelgiant iš šono, viskas atrodo be galo grakščiai bei lengvai, kūnui šis stilius yra tikras iššūkis!\n",
    "\n",
    "**Įgausi pasitikėjimo savimi.** Waacking šokėjai dalyvauja įvairiuose renginiuose bei konkursuose, ruošia komandinius bei solo pasirodymus ir filmuoja profesionalius šokių video. Tad norint tobulėti ir susidraugauti su scena ir kamera, nuoseklus lankomumas yra labai svarbus.\n",
    "\n",
    "**Išmoksi girdėti muziką, laisvai judėti ir prarasi scenos baimę.** Tiek pradedančiųjų, tiek pažengusiųjų grupių šokių sezonas skaidomas į du pusmečius, per kuriuos visi judesiai pateikiami pagal sudėtingumą. Todėl labai svarbus reguliarus treniruočių lankomumas: laikantis nuoseklaus treniruočių grafiko, kūnas kur kas greičiau pagaus judesio subtilybes. Ir… bus žymiai lengviau pasiruošti konkursams bei pasirodymams: sezono metu kiekviena grupė dalyvauja ne mažiau nei dviejuose renginiuose ir savo tobulėjimą įamžina mažiausiai trijuose vaizdo klipuose."
   ]
  },
  {
   "cell_type": "markdown",
   "id": "04dd6856",
   "metadata": {},
   "source": [
    "### Waacking treneriai\n",
    "#### Trenerė - Aura\n",
    "Aura Šriubšaitė – šokio mokytoja, šokio atlikėja bei studentė. Savo šokio kelią prieš 12 metų pradėjo Low Air šokio mokykloje. Mokydamasi įvairių gatvės šokio stilių, atrado waacking šokį, kuris Aurą sužavėjo rankų plastika, skleidžiama emocija ir elegancija. 2018-2019 metais mokėsi šiuolaikinio šokio Nacionalinėje M. K. Čiurlionio menų mokykloje. Siekdama plėsti ir gilinti savo waacking šokio žinias, ne kartą vyko į užsienį dalyvauti šokio kovose bei seminaruose: The Waack off renginyje Vokietijoje, seminaruose su Chrissy Chou, Archie Burnett; All Europe Waacking festivalyje Prancūzijoje seminaruose su Bagsy, Princess Madoki; Summer Dance Forever renginyje Olandijoje seminaruose su Boubou, Nubian Nene ir daugybėje kitų renginių ir seminarų. Aura taip pat aktyviai dalyvauja šokio kovų renginiuose ir Lietuvoje, kuriuose ne kartą pelnė prizinę pirmąją vietą: 2019 m. renginiuose Funky Soul Connection, Vogue mini Ball: Deep in the Jungle, House is Funky, 2022 m. renginyje Funky soul connection.\n",
    "\n",
    "Aura yra viena iš Vilniaus miesto šokio teatro Low Air šokio spektaklio (ne)paaugliams „me two / Savoj krūvoj“ bendraautorių ir šokėjų. 2021 m. rugpjūtį įvykus šio spektaklio premjerai, šiuo metu trupė aktyviai rodo spektaklį užsienio ir Lietuvos miestuose, vykdo „Savos krūvos“ metodo dirbtuves jaunimui regionuose. Už geriausią 2021 metų spektaklį vaikams ir jaunimui, spektaklio komanda apdovanota Auksiniu scenos kryžiumi. Šiuo metu Aura studijuoja šiuolaikinį šokį, kartu su gretutinėmis šokio pedagogikos studijomis, Lietuvos Muzikos ir Teatro akademijoje (LMTA).\n",
    "\n",
    "Įrašai su Aura:"
   ]
  },
  {
   "cell_type": "code",
   "execution_count": 59,
   "id": "8da01eb4",
   "metadata": {},
   "outputs": [
    {
     "data": {
      "text/html": [
       "<table>\n",
       "  <tr>\n",
       "    <td><iframe allow=\"fullscreen\" style='width:315px' src=\"https://player.vimeo.com/video/990504009\"></iframe></td>\n",
       "    <td><iframe allow=\"fullscreen\" style='width:315px' src=\"https://www.youtube.com/embed/-RjyMJ08foA\"></iframe></td>\n",
       "  </tr>\n",
       "</table>\n"
      ],
      "text/plain": [
       "<IPython.core.display.HTML object>"
      ]
     },
     "metadata": {},
     "output_type": "display_data"
    }
   ],
   "source": [
    "%%HTML\n",
    "<table>\n",
    "  <tr>\n",
    "    <td><iframe allow=\"fullscreen\" style='width:315px' src=\"https://player.vimeo.com/video/990504009\"></iframe></td>\n",
    "    <td><iframe allow=\"fullscreen\" style='width:315px' src=\"https://www.youtube.com/embed/-RjyMJ08foA\"></iframe></td>\n",
    "  </tr>\n",
    "</table>"
   ]
  },
  {
   "cell_type": "markdown",
   "id": "c74f5b0a",
   "metadata": {},
   "source": [
    "#### Trenerė - Brigida\n",
    "Šiuo metu šokių neveda. Vis dėlto per pandemiją viena žurnalistė pakalbino Brigidą jos šokių studijoje apie jos ryšį su šokiu ir ko jai prireikė norint atvežti Waacking į Lietuvą."
   ]
  },
  {
   "cell_type": "code",
   "execution_count": 60,
   "id": "25c281ba",
   "metadata": {},
   "outputs": [
    {
     "data": {
      "text/html": [
       "<iframe allow=\"fullscreen\" width=\"560\" height=\"315\" src=\"https://www.youtube.com/embed/ic52dpuZlfI\"></iframe>\n"
      ],
      "text/plain": [
       "<IPython.core.display.HTML object>"
      ]
     },
     "metadata": {},
     "output_type": "display_data"
    }
   ],
   "source": [
    "%%HTML\n",
    "<iframe allow=\"fullscreen\" width=\"560\" height=\"315\" src=\"https://www.youtube.com/embed/ic52dpuZlfI\"></iframe>"
   ]
  },
  {
   "cell_type": "code",
   "execution_count": 61,
   "id": "12984574",
   "metadata": {},
   "outputs": [
    {
     "data": {
      "text/html": [
       "<table>\n",
       "  <tr>\n",
       "    <td><iframe allow=\"fullscreen\" width=\"320\" height=\"200\" src=\"https://www.youtube.com/embed/-_g114wG-7Q\"></iframe></td>\n",
       "    <td><iframe allow=\"fullscreen\" width=\"320\" height=\"200\" src=\"https://www.youtube.com/embed/H1jyW4FlOO8\"></iframe></td>\n",
       "  </tr>\n",
       "</table>\n"
      ],
      "text/plain": [
       "<IPython.core.display.HTML object>"
      ]
     },
     "metadata": {},
     "output_type": "display_data"
    }
   ],
   "source": [
    "%%HTML\n",
    "<table>\n",
    "  <tr>\n",
    "    <td><iframe allow=\"fullscreen\" width=\"320\" height=\"200\" src=\"https://www.youtube.com/embed/-_g114wG-7Q\"></iframe></td>\n",
    "    <td><iframe allow=\"fullscreen\" width=\"320\" height=\"200\" src=\"https://www.youtube.com/embed/H1jyW4FlOO8\"></iframe></td>\n",
    "  </tr>\n",
    "</table>"
   ]
  },
  {
   "cell_type": "markdown",
   "id": "2a2dc635",
   "metadata": {},
   "source": [
    "Taip pat dar viena pamoka prieinama tik Facebook:\n",
    "  * [https://www.facebook.com/LowAirDanceSchool/videos/2670653803039428/](https://www.facebook.com/LowAirDanceSchool/videos/2670653803039428/)"
   ]
  },
  {
   "cell_type": "markdown",
   "id": "040461b9",
   "metadata": {},
   "source": [
    "### Waacking šokio įrašai\n",
    "#### Brigidos choreografijos"
   ]
  },
  {
   "cell_type": "code",
   "execution_count": 67,
   "id": "027bd707",
   "metadata": {},
   "outputs": [
    {
     "data": {
      "text/html": [
       "<table>\n",
       "  <tr>\n",
       "    <td><iframe allow=\"fullscreen\" width=\"320\" height=\"200\" src=\"https://www.youtube.com/embed/0tpORnjFa0U\"></iframe></td>\n",
       "    <td><iframe allow=\"fullscreen\" width=\"320\" height=\"200\" src=\"https://www.youtube.com/embed/lkMC_U70MT0\"></iframe></td>\n",
       "    <td><iframe allow=\"fullscreen\" width=\"320\" height=\"200\" src=\"https://www.youtube.com/embed/ASompHNfvi0\"></iframe></td>\n",
       "  </tr>\n",
       "  <tr>\n",
       "    <td><iframe allow=\"fullscreen\" width=\"320\" height=\"200\" src=\"https://www.youtube.com/embed/uNf84XRj8e8\"></iframe></td>\n",
       "    <td><iframe allow=\"fullscreen\" width=\"320\" height=\"200\" src=\"https://www.youtube.com/embed/uG5Q9442HcI\"></iframe></td>\n",
       "    <td><iframe allow=\"fullscreen\" width=\"320\" height=\"200\" allow=\"autoplay; encrypted-media\" src=\"https://www.youtube.com/embed/tZRwHBcy1h4\"></iframe></td>\n",
       "  </tr>\n",
       "</table>\n"
      ],
      "text/plain": [
       "<IPython.core.display.HTML object>"
      ]
     },
     "metadata": {},
     "output_type": "display_data"
    }
   ],
   "source": [
    "%%HTML\n",
    "<table>\n",
    "  <tr>\n",
    "    <td><iframe allow=\"fullscreen\" width=\"320\" height=\"200\" src=\"https://www.youtube.com/embed/0tpORnjFa0U\"></iframe></td>\n",
    "    <td><iframe allow=\"fullscreen\" width=\"320\" height=\"200\" src=\"https://www.youtube.com/embed/lkMC_U70MT0\"></iframe></td>\n",
    "    <td><iframe allow=\"fullscreen\" width=\"320\" height=\"200\" src=\"https://www.youtube.com/embed/ASompHNfvi0\"></iframe></td>\n",
    "  </tr>\n",
    "  <tr>\n",
    "    <td><iframe allow=\"fullscreen\" width=\"320\" height=\"200\" src=\"https://www.youtube.com/embed/uNf84XRj8e8\"></iframe></td>\n",
    "    <td><iframe allow=\"fullscreen\" width=\"320\" height=\"200\" src=\"https://www.youtube.com/embed/uG5Q9442HcI\"></iframe></td>\n",
    "    <td><iframe allow=\"fullscreen\" width=\"320\" height=\"200\" allow=\"autoplay; encrypted-media\" src=\"https://www.youtube.com/embed/tZRwHBcy1h4\"></iframe></td>\n",
    "  </tr>\n",
    "</table>"
   ]
  },
  {
   "cell_type": "markdown",
   "id": "b5055f18",
   "metadata": {},
   "source": [
    "#### Low Air Didysis Metų Įvykis"
   ]
  },
  {
   "cell_type": "code",
   "execution_count": 63,
   "id": "228caefb",
   "metadata": {},
   "outputs": [
    {
     "data": {
      "text/html": [
       "<table>\n",
       "  <tr>\n",
       "    <td><iframe allow=\"fullscreen\" width=\"320\" height=\"200\" src=\"https://www.youtube.com/embed/eSlNRJDhZbw\"></iframe></td>\n",
       "    <td><iframe allow=\"fullscreen\" width=\"320\" height=\"200\" src=\"https://www.youtube.com/embed/6l-aWlA4SU0\"></iframe></td>\n",
       "    <td><iframe allow=\"fullscreen\" width=\"320\" height=\"200\" src=\"https://www.youtube.com/embed/764D_kK4jpc\"></iframe></td>\n",
       "  </tr>\n",
       "  <tr>\n",
       "    <td><iframe allow=\"fullscreen\" width=\"320\" height=\"200\" src=\"https://www.youtube.com/embed/jdfme-rs14o\"></iframe></td>\n",
       "    <td><iframe allow=\"fullscreen\" width=\"320\" height=\"200\" src=\"https://www.youtube.com/embed/285jw9Bl0jM\"></iframe></td>\n",
       "    <td><iframe allow=\"fullscreen\" width=\"320\" height=\"200\" src=\"https://www.youtube.com/embed/-U1leZlaBGQ\"></iframe></td>\n",
       "  </tr>\n",
       "  <tr>\n",
       "    <td><iframe allow=\"fullscreen\" width=\"320\" height=\"200\" src=\"https://www.youtube.com/embed/lGFrFjRXwSk\"></iframe></td>\n",
       "    <td><iframe allow=\"fullscreen\" width=\"320\" height=\"200\" src=\"https://www.youtube.com/embed/PvgLgbPMOT0\"></iframe></td>\n",
       "    <td><iframe allow=\"fullscreen\" width=\"320\" height=\"200\" src=\"https://www.youtube.com/embed/hdpNuuqKtf8\"></iframe></td>\n",
       "  </tr>\n",
       "  <tr>\n",
       "    <td><iframe allow=\"fullscreen\" width=\"320\" height=\"200\" src=\"https://www.youtube.com/embed/P5apq6-0pSc\"></iframe></td>\n",
       "    <td><iframe allow=\"fullscreen\" width=\"320\" height=\"200\" src=\"https://www.youtube.com/embed/u2NGGrs7HOg\"></iframe></td>\n",
       "    <td><iframe allow=\"fullscreen\" width=\"320\" height=\"200\" src=\"https://www.youtube.com/embed/iyW5yJAeAH8\"></iframe></td>\n",
       "  </tr>\n",
       "</table>\n"
      ],
      "text/plain": [
       "<IPython.core.display.HTML object>"
      ]
     },
     "metadata": {},
     "output_type": "display_data"
    }
   ],
   "source": [
    "%%HTML\n",
    "<table>\n",
    "  <tr>\n",
    "    <td><iframe allow=\"fullscreen\" width=\"320\" height=\"200\" src=\"https://www.youtube.com/embed/eSlNRJDhZbw\"></iframe></td>\n",
    "    <td><iframe allow=\"fullscreen\" width=\"320\" height=\"200\" src=\"https://www.youtube.com/embed/6l-aWlA4SU0\"></iframe></td>\n",
    "    <td><iframe allow=\"fullscreen\" width=\"320\" height=\"200\" src=\"https://www.youtube.com/embed/764D_kK4jpc\"></iframe></td>\n",
    "  </tr>\n",
    "  <tr>\n",
    "    <td><iframe allow=\"fullscreen\" width=\"320\" height=\"200\" src=\"https://www.youtube.com/embed/jdfme-rs14o\"></iframe></td>\n",
    "    <td><iframe allow=\"fullscreen\" width=\"320\" height=\"200\" src=\"https://www.youtube.com/embed/285jw9Bl0jM\"></iframe></td>\n",
    "    <td><iframe allow=\"fullscreen\" width=\"320\" height=\"200\" src=\"https://www.youtube.com/embed/-U1leZlaBGQ\"></iframe></td>\n",
    "  </tr>\n",
    "  <tr>\n",
    "    <td><iframe allow=\"fullscreen\" width=\"320\" height=\"200\" src=\"https://www.youtube.com/embed/lGFrFjRXwSk\"></iframe></td>\n",
    "    <td><iframe allow=\"fullscreen\" width=\"320\" height=\"200\" src=\"https://www.youtube.com/embed/PvgLgbPMOT0\"></iframe></td>\n",
    "    <td><iframe allow=\"fullscreen\" width=\"320\" height=\"200\" src=\"https://www.youtube.com/embed/hdpNuuqKtf8\"></iframe></td>\n",
    "  </tr>\n",
    "  <tr>\n",
    "    <td><iframe allow=\"fullscreen\" width=\"320\" height=\"200\" src=\"https://www.youtube.com/embed/P5apq6-0pSc\"></iframe></td>\n",
    "    <td><iframe allow=\"fullscreen\" width=\"320\" height=\"200\" src=\"https://www.youtube.com/embed/u2NGGrs7HOg\"></iframe></td>\n",
    "    <td><iframe allow=\"fullscreen\" width=\"320\" height=\"200\" src=\"https://www.youtube.com/embed/iyW5yJAeAH8\"></iframe></td>\n",
    "  </tr>\n",
    "</table>"
   ]
  },
  {
   "cell_type": "markdown",
   "id": "4c467267",
   "metadata": {},
   "source": [
    "#### Lowair Dance Season Closing Jam"
   ]
  },
  {
   "cell_type": "code",
   "execution_count": 44,
   "id": "9cd60ea1",
   "metadata": {},
   "outputs": [
    {
     "data": {
      "text/html": [
       "<table>\n",
       "  <tr>\n",
       "    <td><iframe allow=\"fullscreen\" width=\"320\" height=\"200\" src=\"https://www.youtube.com/embed/MegbE1YfZdo\"></iframe></td>\n",
       "    <td><iframe allow=\"fullscreen\" width=\"320\" height=\"200\" src=\"https://www.youtube.com/embed/DR8h1HFzLNs\"></iframe></td>\n",
       "    <td><iframe allow=\"fullscreen\" width=\"320\" height=\"200\" src=\"https://www.youtube.com/embed/mLScM7DHM2s\"></iframe></td>\n",
       "  </tr>\n",
       "  <tr>\n",
       "    <td><iframe allow=\"fullscreen\" width=\"320\" height=\"200\" src=\"https://www.youtube.com/embed/HdgWXv5xZQk\"></iframe></td>\n",
       "    <td><iframe allow=\"fullscreen\" width=\"320\" height=\"200\" src=\"https://www.youtube.com/embed/Nx1ewLYkJZI\"></iframe></td>\n",
       "  </tr>\n",
       "</table>\n"
      ],
      "text/plain": [
       "<IPython.core.display.HTML object>"
      ]
     },
     "metadata": {},
     "output_type": "display_data"
    }
   ],
   "source": [
    "%%HTML\n",
    "<table>\n",
    "  <tr>\n",
    "    <td><iframe allow=\"fullscreen\" width=\"320\" height=\"200\" src=\"https://www.youtube.com/embed/MegbE1YfZdo\"></iframe></td>\n",
    "    <td><iframe allow=\"fullscreen\" width=\"320\" height=\"200\" src=\"https://www.youtube.com/embed/DR8h1HFzLNs\"></iframe></td>\n",
    "    <td><iframe allow=\"fullscreen\" width=\"320\" height=\"200\" src=\"https://www.youtube.com/embed/mLScM7DHM2s\"></iframe></td>\n",
    "  </tr>\n",
    "  <tr>\n",
    "    <td><iframe allow=\"fullscreen\" width=\"320\" height=\"200\" src=\"https://www.youtube.com/embed/HdgWXv5xZQk\"></iframe></td>\n",
    "    <td><iframe allow=\"fullscreen\" width=\"320\" height=\"200\" src=\"https://www.youtube.com/embed/Nx1ewLYkJZI\"></iframe></td>\n",
    "  </tr>\n",
    "</table>"
   ]
  },
  {
   "cell_type": "markdown",
   "id": "3d3acaf6",
   "metadata": {},
   "source": [
    "#### Skillz pasirodymai"
   ]
  },
  {
   "cell_type": "code",
   "execution_count": 64,
   "id": "626b12a1",
   "metadata": {},
   "outputs": [
    {
     "data": {
      "text/html": [
       "<table>\n",
       "  <tr>\n",
       "    <td><iframe allow=\"fullscreen\" width=\"320\" height=\"200\" src=\"https://www.youtube.com/embed/82-OTm3TmXQ\"></iframe></td>\n",
       "    <td><iframe allow=\"fullscreen\" width=\"320\" height=\"200\" src=\"https://www.youtube.com/embed/5v3KXWSfIlM\"></iframe></td>\n",
       "    <td><iframe allow=\"fullscreen\" width=\"320\" height=\"200\" src=\"https://www.youtube.com/embed/5o_oKD3u3AA\"></iframe></td>\n",
       "  </tr>\n",
       "  <tr>\n",
       "    <td><iframe allow=\"fullscreen\" width=\"320\" height=\"200\" src=\"https://www.youtube.com/embed/sF8_hlRLZxQ\"></iframe></td>\n",
       "  </tr>\n",
       "</table>\n"
      ],
      "text/plain": [
       "<IPython.core.display.HTML object>"
      ]
     },
     "metadata": {},
     "output_type": "display_data"
    }
   ],
   "source": [
    "%%HTML\n",
    "<table>\n",
    "  <tr>\n",
    "    <td><iframe allow=\"fullscreen\" width=\"320\" height=\"200\" src=\"https://www.youtube.com/embed/82-OTm3TmXQ\"></iframe></td>\n",
    "    <td><iframe allow=\"fullscreen\" width=\"320\" height=\"200\" src=\"https://www.youtube.com/embed/5v3KXWSfIlM\"></iframe></td>\n",
    "    <td><iframe allow=\"fullscreen\" width=\"320\" height=\"200\" src=\"https://www.youtube.com/embed/5o_oKD3u3AA\"></iframe></td>\n",
    "  </tr>\n",
    "  <tr>\n",
    "    <td><iframe allow=\"fullscreen\" width=\"320\" height=\"200\" src=\"https://www.youtube.com/embed/sF8_hlRLZxQ\"></iframe></td>\n",
    "  </tr>\n",
    "</table>"
   ]
  },
  {
   "cell_type": "markdown",
   "id": "e68a3dd4",
   "metadata": {},
   "source": [
    "#### City Dance"
   ]
  },
  {
   "cell_type": "code",
   "execution_count": 65,
   "id": "fe1a6045",
   "metadata": {},
   "outputs": [
    {
     "data": {
      "text/html": [
       "<table>\n",
       "  <tr>\n",
       "    <td><iframe allow=\"fullscreen\" width=\"320\" height=\"200\" src=\"https://www.youtube.com/embed/wo36nvFPf_o\"></iframe></td>\n",
       "    <td><iframe allow=\"fullscreen\" width=\"320\" height=\"200\" src=\"https://www.youtube.com/embed/_-h3TC8lX3s\"></iframe></td>\n",
       "    <td><iframe allow=\"fullscreen\" width=\"320\" height=\"200\" src=\"https://www.youtube.com/embed/Abp3wNUwXvw\"></iframe></td>\n",
       "  </tr>\n",
       "  <tr>\n",
       "    <td><iframe allow=\"fullscreen\" width=\"320\" height=\"200\" src=\"https://www.youtube.com/embed/8sOKESHWlfw\"></iframe></td>\n",
       "    <td><iframe allow=\"fullscreen\" width=\"320\" height=\"200\" src=\"https://www.youtube.com/embed/YrUnOBB3NjY\"></iframe></td>\n",
       "    <td><iframe allow=\"fullscreen\" width=\"320\" height=\"200\" src=\"https://www.youtube.com/embed/A5VmGB_4BJg\"></iframe></td>\n",
       "  </tr>\n",
       "</table>\n"
      ],
      "text/plain": [
       "<IPython.core.display.HTML object>"
      ]
     },
     "metadata": {},
     "output_type": "display_data"
    }
   ],
   "source": [
    "%%HTML\n",
    "<table>\n",
    "  <tr>\n",
    "    <td><iframe allow=\"fullscreen\" width=\"320\" height=\"200\" src=\"https://www.youtube.com/embed/wo36nvFPf_o\"></iframe></td>\n",
    "    <td><iframe allow=\"fullscreen\" width=\"320\" height=\"200\" src=\"https://www.youtube.com/embed/_-h3TC8lX3s\"></iframe></td>\n",
    "    <td><iframe allow=\"fullscreen\" width=\"320\" height=\"200\" src=\"https://www.youtube.com/embed/Abp3wNUwXvw\"></iframe></td>\n",
    "  </tr>\n",
    "  <tr>\n",
    "    <td><iframe allow=\"fullscreen\" width=\"320\" height=\"200\" src=\"https://www.youtube.com/embed/8sOKESHWlfw\"></iframe></td>\n",
    "    <td><iframe allow=\"fullscreen\" width=\"320\" height=\"200\" src=\"https://www.youtube.com/embed/YrUnOBB3NjY\"></iframe></td>\n",
    "    <td><iframe allow=\"fullscreen\" width=\"320\" height=\"200\" src=\"https://www.youtube.com/embed/A5VmGB_4BJg\"></iframe></td>\n",
    "  </tr>\n",
    "</table>"
   ]
  },
  {
   "cell_type": "markdown",
   "id": "33d56a07",
   "metadata": {},
   "source": [
    "#### Kiti pasirodymai\n",
    "\n",
    "* [Šokorona po vieną](https://www.facebook.com/video/?v=520348648646176)\n",
    "* [City Dance Beginners](https://www.facebook.com/watch/?v=5281681771883827)\n",
    "* [Waacking fever by LowAir](https://www.youtube.com/watch?v=PHAbYqTO7fs)    \n",
    "* [Vilnius is Burning by Low Air Svečias](https://www.youtube.com/watch?v=K964Wzl3CCU_)  "
   ]
  },
  {
   "cell_type": "markdown",
   "id": "e8ca73dc",
   "metadata": {},
   "source": [
    "### Inspiracijos\n",
    "\n",
    "* Waacking šokio kovos:\n",
    "    * [Vilnius is Burning - Waacking Dance Ball renginys Lietuvoje](https://www.youtube.com/watch?v=Qm5A1YH90yQ)\n",
    "    * Lithuanian Cup:\n",
    "        * [Lithuanian Cup 2013 Semifinal 1](https://www.youtube.com/watch?v=fzTUktufgp0)\n",
    "        * [Lithuanian Cup 2013 Semifinal 2](https://www.youtube.com/watch?v=y27TPN9mhWc)\n",
    "        * [Lithuanian Cup 2013 Final](https://www.youtube.com/watch?v=Yn4flU_wP7g)\n",
    "        * [Lithuanian Cup 2014](https://www.youtube.com/watch?v=UMul-WAgF9Y)\n",
    "        * [Lithuanian Cup 2016 Waacking Battles](https://www.youtube.com/watch?v=-6Ox7rzfKqo)\n",
    "        * [Lithuanian Cup 2017 Final](https://www.youtube.com/watch?v=5uf2OSkKJu4&list=PLnnw2JpD_Gx22-dq_mw824RD7gPK7pyOB&index=5)\n",
    "        [Lithuanian Cup 2017 Judge showcase](https://www.youtube.com/watch?v=jQDRBknD1gw&list=PLnnw2JpD_Gx3xQlSiTS_7Nnta-UpVr9ou&index=2)\n",
    "    * [FunkySoulConnection 2016](https://www.youtube.com/watch?v=m7HMVJLNSpA)\n",
    "    * Užsienis:\n",
    "        * [All Europe Waacking Festival 2023 Final](https://www.youtube.com/watch?v=G1HXcH0gpfs)\n",
    "        * [Waacking Forever 2023](https://www.youtube.com/watch?v=yZun3GVy7QM&list=PLSdbWKBxNJL9jhFH18ztJi5-hctOh1Mi3&index=1)\n",
    "    * [Wack The World](https://www.youtube.com/@kso6408/playlists) - viso pasaulio renginys, organizuotas 2019 - 2022 metais.\n",
    "* Iš Skillz įkeltų:\n",
    "  * [HBHH 2014 Vilte vs Julia Waaking](https://www.youtube.com/watch?v=Z2Rk5ROVaAw)\n",
    "  * [Julia Waacking Judge demo @Lteam Jam 2017](https://www.youtube.com/watch?v=0Y3Om5NrFhg)\n",
    "  * [WAACKING TOP8 3 VIKTOR vs DANZEL｜20191012 C'est La Waack X Supernova【動漫盛典】](https://www.youtube.com/watch?v=uKH0RCFkTlM)\n",
    "  * [VIKTOR I.H.O.W vs SHAHIN | TOP8 1v1 Waacking | Eleganza Waacking Festival 2019](https://www.youtube.com/watch?v=UUhIjZMjGn8)\n",
    "  * [PRINCESS MADOKI (FRA) vs YOSHIE (JPN) Waacking Semifinal I STREETSTAR 2013](https://www.youtube.com/watch?v=w56YYVQOfPY)\n",
    "  * [Lip J - WAACKING showcase at KOD // .stance](https://www.youtube.com/watch?v=tCDqCnOqOas)\n",
    "  * [Bruno Mars - Treasure / ITsMe waacking choreography dance](https://www.youtube.com/watch?v=0X-gs2EzHJw)\n",
    "* Iš City Dance įkeltų:\n",
    "    * [[세종시 댄스학원] Waacking / Waacker piepie / Donna Summer - I Feel Love (12 Version) / 올스타즈댄스학원](https://www.youtube.com/watch?v=LW3vfY6ka6M)\n",
    "    * [Waacking - combo 1 with Lady Venus](https://www.youtube.com/watch?v=q1rzULEOWyU)\n",
    "    * [목동 댄스 학원 Waacking basic T. Waackxxxy](https://www.youtube.com/watch?v=YR7DwX8fzgo)\n",
    "    * [ANTI-INFLAMMATORY DIET SUMMER MEAL PLAN & PDF Guide](https://www.youtube.com/watch?v=hXN3dm0yyto)"
   ]
  }
 ],
 "metadata": {
  "kernelspec": {
   "display_name": "Python 3 (ipykernel)",
   "language": "python",
   "name": "python3"
  },
  "language_info": {
   "codemirror_mode": {
    "name": "ipython",
    "version": 3
   },
   "file_extension": ".py",
   "mimetype": "text/x-python",
   "name": "python",
   "nbconvert_exporter": "python",
   "pygments_lexer": "ipython3",
   "version": "3.10.9"
  },
  "toc": {
   "base_numbering": 1,
   "nav_menu": {},
   "number_sections": true,
   "sideBar": true,
   "skip_h1_title": false,
   "title_cell": "Table of Contents",
   "title_sidebar": "Contents",
   "toc_cell": false,
   "toc_position": {},
   "toc_section_display": true,
   "toc_window_display": false
  },
  "varInspector": {
   "cols": {
    "lenName": 16,
    "lenType": 16,
    "lenVar": 40
   },
   "kernels_config": {
    "python": {
     "delete_cmd_postfix": "",
     "delete_cmd_prefix": "del ",
     "library": "var_list.py",
     "varRefreshCmd": "print(var_dic_list())"
    },
    "r": {
     "delete_cmd_postfix": ") ",
     "delete_cmd_prefix": "rm(",
     "library": "var_list.r",
     "varRefreshCmd": "cat(var_dic_list()) "
    }
   },
   "types_to_exclude": [
    "module",
    "function",
    "builtin_function_or_method",
    "instance",
    "_Feature"
   ],
   "window_display": false
  }
 },
 "nbformat": 4,
 "nbformat_minor": 5
}
