{
 "cells": [
  {
   "cell_type": "markdown",
   "id": "da6ac77e",
   "metadata": {},
   "source": [
    "### Kvapai\n",
    "* [Brigidos kvepalų parduotuvė](www.skinscent.lt)\n",
    "* [Kaip išsirinkti kvepalus?](https://www.youtube.com/watch?v=ULwIJ39aGn0)\n",
    "* [Top 5 kvepalai pavasariui](https://www.youtube.com/watch?v=4mtB7J5qJQM)\n",
    "* [Kasdieniai kvepalai/ Unisex/ Darbui ir laisvalaikiui](https://www.youtube.com/watch?v=uCQ30jlce90)\n",
    "* [PRANCŪZŲ Botaninės Parfumerijos Namai](https://www.youtube.com/watch?v=tm-TRH0Oh3s)\n",
    "### Makiažas\n",
    "* [Makiažo kursai online](https://silart.lt/products/makiazo-kursai-online)\n",
    "### Rūbai\n",
    "* [Internetinė moteriškų rūbų parduotuvė](https://eur.shein.com/)\n",
    "### Sportas\n",
    "* [Kalanetika vs pilatesas](https://www.bookitnow.lt/apie/tinklarastis/kalanetika-ar-pilatesas--ka-pasirinkti)\n",
    "* [Kalanetikos įrašas](https://www.youtube.com/watch?v=ByREMm8uTJE)"
   ]
  }
 ],
 "metadata": {
  "kernelspec": {
   "display_name": "Python 3 (ipykernel)",
   "language": "python",
   "name": "python3"
  },
  "language_info": {
   "codemirror_mode": {
    "name": "ipython",
    "version": 3
   },
   "file_extension": ".py",
   "mimetype": "text/x-python",
   "name": "python",
   "nbconvert_exporter": "python",
   "pygments_lexer": "ipython3",
   "version": "3.10.9"
  },
  "toc": {
   "base_numbering": 1,
   "nav_menu": {},
   "number_sections": true,
   "sideBar": true,
   "skip_h1_title": false,
   "title_cell": "Table of Contents",
   "title_sidebar": "Contents",
   "toc_cell": false,
   "toc_position": {},
   "toc_section_display": true,
   "toc_window_display": false
  },
  "varInspector": {
   "cols": {
    "lenName": 16,
    "lenType": 16,
    "lenVar": 40
   },
   "kernels_config": {
    "python": {
     "delete_cmd_postfix": "",
     "delete_cmd_prefix": "del ",
     "library": "var_list.py",
     "varRefreshCmd": "print(var_dic_list())"
    },
    "r": {
     "delete_cmd_postfix": ") ",
     "delete_cmd_prefix": "rm(",
     "library": "var_list.r",
     "varRefreshCmd": "cat(var_dic_list()) "
    }
   },
   "types_to_exclude": [
    "module",
    "function",
    "builtin_function_or_method",
    "instance",
    "_Feature"
   ],
   "window_display": false
  }
 },
 "nbformat": 4,
 "nbformat_minor": 5
}
